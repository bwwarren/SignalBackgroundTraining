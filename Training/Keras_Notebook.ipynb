{
 "cells": [
  {
   "cell_type": "markdown",
   "metadata": {},
   "source": [
    "# Keras Notebook\n",
    "\n",
    "This notebook allows us to train detector data using a CNN model using binary classsification. The purpose of this model is to distinguish between ZvvHbb images and JZ0W images. \n",
    "\n",
    "In order to do this we must first convert our data into a convenient format that allows us to load it into a CNN using the Keras API. Then it is a matter of using a convenient CNN model to classify the images."
   ]
  },
  {
   "cell_type": "code",
   "execution_count": 1,
   "metadata": {
    "colab": {},
    "colab_type": "code",
    "id": "l9QAXctTKizH"
   },
   "outputs": [
    {
     "name": "stderr",
     "output_type": "stream",
     "text": [
      "Using TensorFlow backend.\n"
     ]
    }
   ],
   "source": [
    "import numpy as np\n",
    "import pandas as pd \n",
    "import h5py\n",
    "import convert_data\n",
    "\n",
    "import matplotlib.pyplot as plt\n",
    "from matplotlib import colors\n",
    "from sklearn.utils import shuffle\n",
    "\n",
    "from keras.models import Sequential, load_model\n",
    "from keras.layers import Dense, Dropout, Flatten, Activation\n",
    "from keras.layers import Conv2D, MaxPooling2D, BatchNormalization\n",
    "from keras.optimizers import Adam,SGD,Adagrad,Adadelta,RMSprop\n",
    "from keras.preprocessing.image import ImageDataGenerator\n",
    "from keras.callbacks import ReduceLROnPlateau, LearningRateScheduler\n",
    "from keras.utils import to_categorical\n",
    "\n",
    "from sklearn.model_selection import train_test_split\n",
    "np.random.seed(7)"
   ]
  },
  {
   "cell_type": "code",
   "execution_count": 2,
   "metadata": {
    "colab": {},
    "colab_type": "code",
    "id": "OprAOpQPKizj"
   },
   "outputs": [],
   "source": [
    "#This loads all of our data and gives us our images and labels in the format we need\n",
    "\n",
    "images, images_first_group, images_individual, labels = convert_data.images_and_labels()\n",
    "\n",
    "x_tr, x_val, y_tr, y_val = train_test_split(images, labels, test_size=0.5, random_state=42)\n",
    "x_val, x_te, y_val, y_te = train_test_split(x_val, y_val, test_size=0.1, random_state=42)\n",
    "\n",
    "# x_tr_fg, x_val_fg, y_tr_fg, y_val_fg = train_test_split(images_first_group, labels, test_size=0.5, random_state=42)\n",
    "# x_val_fg, x_te_fg, y_val_fg, y_te_fg = train_test_split(x_val_fg, y_val_fg, test_size=0.1, random_state=42)\n",
    "\n",
    "# x_tr_i, x_val_i, y_tr_i, y_val_i = train_test_split(images_individual, labels, test_size=0.5, random_state=42)\n",
    "# x_val_i, x_te_i, y_val_i, y_te_i = train_test_split(x_val_i, y_val_i, test_size=0.1, random_state=42)\n",
    "\n",
    "\n"
   ]
  },
  {
   "cell_type": "markdown",
   "metadata": {},
   "source": [
    "# Model Creation\n",
    "\n",
    "Here we define various differen models and train them on various normalized datasets."
   ]
  },
  {
   "cell_type": "code",
   "execution_count": 3,
   "metadata": {
    "colab": {
     "base_uri": "https://localhost:8080/",
     "height": 139
    },
    "colab_type": "code",
    "id": "l-FB5NkPKi0Q",
    "outputId": "b8009c0e-bc11-47d9-e2e8-3ad288c8135f"
   },
   "outputs": [
    {
     "name": "stdout",
     "output_type": "stream",
     "text": [
      "_________________________________________________________________\n",
      "Layer (type)                 Output Shape              Param #   \n",
      "=================================================================\n",
      "conv2d_1 (Conv2D)            (None, 26, 32, 32)        320       \n",
      "_________________________________________________________________\n",
      "batch_normalization_1 (Batch (None, 26, 32, 32)        128       \n",
      "_________________________________________________________________\n",
      "flatten_1 (Flatten)          (None, 26624)             0         \n",
      "_________________________________________________________________\n",
      "dense_1 (Dense)              (None, 1)                 26625     \n",
      "=================================================================\n",
      "Total params: 27,073\n",
      "Trainable params: 27,009\n",
      "Non-trainable params: 64\n",
      "_________________________________________________________________\n"
     ]
    }
   ],
   "source": [
    "def model_one_conv_layer():\n",
    "    model = Sequential()\n",
    "    model.add(Conv2D(filters=32, kernel_size=(3, 3), activation='relu', strides=1, padding='same', data_format='channels_last', input_shape=(26,32,1)))\n",
    "    model.add(BatchNormalization())\n",
    "    model.add(Flatten())\n",
    "    model.add(Dense(1, activation='sigmoid'))\n",
    "\n",
    "    optimizer = Adam(lr=0.001, beta_1=0.9, beta_2=0.999 )\n",
    "    model.compile(optimizer=optimizer, loss=\"binary_crossentropy\", metrics=[\"accuracy\"])\n",
    "    \n",
    "    return model\n",
    "\n",
    "model_1c = model_one_conv_layer()\n",
    "model_1c_fg = model_one_conv_layer()\n",
    "model_1c_i = model_one_conv_layer()\n",
    "model_1c.summary()"
   ]
  },
  {
   "cell_type": "code",
   "execution_count": 4,
   "metadata": {},
   "outputs": [
    {
     "name": "stdout",
     "output_type": "stream",
     "text": [
      "_________________________________________________________________\n",
      "Layer (type)                 Output Shape              Param #   \n",
      "=================================================================\n",
      "conv2d_4 (Conv2D)            (None, 26, 32, 32)        320       \n",
      "_________________________________________________________________\n",
      "conv2d_5 (Conv2D)            (None, 26, 32, 32)        9248      \n",
      "_________________________________________________________________\n",
      "batch_normalization_4 (Batch (None, 26, 32, 32)        128       \n",
      "_________________________________________________________________\n",
      "flatten_4 (Flatten)          (None, 26624)             0         \n",
      "_________________________________________________________________\n",
      "dense_4 (Dense)              (None, 1)                 26625     \n",
      "=================================================================\n",
      "Total params: 36,321\n",
      "Trainable params: 36,257\n",
      "Non-trainable params: 64\n",
      "_________________________________________________________________\n"
     ]
    }
   ],
   "source": [
    "def model_two_conv_layer():\n",
    "    model = Sequential()\n",
    "    model.add(Conv2D(filters=32, kernel_size=(3, 3), activation='relu', strides=1, padding='same', data_format='channels_last', input_shape=(26,32,1)))\n",
    "    model.add(Conv2D(filters=32, kernel_size=(3, 3), activation='relu', strides=1, padding='same', data_format='channels_last'))\n",
    "    model.add(BatchNormalization())\n",
    "    model.add(Flatten())\n",
    "    model.add(Dense(1, activation='sigmoid'))\n",
    "\n",
    "    optimizer = Adam(lr=0.001, beta_1=0.9, beta_2=0.999 )\n",
    "    model.compile(optimizer=optimizer, loss=\"binary_crossentropy\", metrics=[\"accuracy\"])\n",
    "    \n",
    "    return model\n",
    "\n",
    "model_2c = model_two_conv_layer()\n",
    "model_2c_fg = model_two_conv_layer()\n",
    "model_2c_i = model_two_conv_layer()\n",
    "model_2c.summary()"
   ]
  },
  {
   "cell_type": "code",
   "execution_count": 5,
   "metadata": {},
   "outputs": [
    {
     "name": "stdout",
     "output_type": "stream",
     "text": [
      "_________________________________________________________________\n",
      "Layer (type)                 Output Shape              Param #   \n",
      "=================================================================\n",
      "conv2d_10 (Conv2D)           (None, 26, 32, 32)        320       \n",
      "_________________________________________________________________\n",
      "max_pooling2d_1 (MaxPooling2 (None, 13, 16, 32)        0         \n",
      "_________________________________________________________________\n",
      "batch_normalization_7 (Batch (None, 13, 16, 32)        128       \n",
      "_________________________________________________________________\n",
      "flatten_7 (Flatten)          (None, 6656)              0         \n",
      "_________________________________________________________________\n",
      "dense_7 (Dense)              (None, 1)                 6657      \n",
      "=================================================================\n",
      "Total params: 7,105\n",
      "Trainable params: 7,041\n",
      "Non-trainable params: 64\n",
      "_________________________________________________________________\n"
     ]
    }
   ],
   "source": [
    "def model_one_conv_one_max():\n",
    "    model = Sequential()\n",
    "    model.add(Conv2D(filters=32, kernel_size=(3, 3), activation='relu', strides=1, padding='same', data_format='channels_last', input_shape=(26,32,1)))\n",
    "    model.add(MaxPooling2D(pool_size=(2, 2), strides=2, padding='valid' ))\n",
    "    model.add(BatchNormalization())\n",
    "    model.add(Flatten())\n",
    "    model.add(Dense(1, activation='sigmoid'))\n",
    "\n",
    "    optimizer = Adam(lr=0.001, beta_1=0.9, beta_2=0.999 )\n",
    "    model.compile(optimizer=optimizer, loss=\"binary_crossentropy\", metrics=[\"accuracy\"])\n",
    "    \n",
    "    return model\n",
    "\n",
    "model_1c1m = model_one_conv_one_max()\n",
    "model_1c1m_fg = model_one_conv_one_max()\n",
    "model_1c1m_i = model_one_conv_one_max()\n",
    "model_1c1m.summary()"
   ]
  },
  {
   "cell_type": "code",
   "execution_count": 6,
   "metadata": {},
   "outputs": [
    {
     "name": "stdout",
     "output_type": "stream",
     "text": [
      "_________________________________________________________________\n",
      "Layer (type)                 Output Shape              Param #   \n",
      "=================================================================\n",
      "conv2d_13 (Conv2D)           (None, 26, 32, 32)        320       \n",
      "_________________________________________________________________\n",
      "max_pooling2d_4 (MaxPooling2 (None, 13, 16, 32)        0         \n",
      "_________________________________________________________________\n",
      "conv2d_14 (Conv2D)           (None, 13, 16, 32)        9248      \n",
      "_________________________________________________________________\n",
      "max_pooling2d_5 (MaxPooling2 (None, 6, 8, 32)          0         \n",
      "_________________________________________________________________\n",
      "batch_normalization_10 (Batc (None, 6, 8, 32)          128       \n",
      "_________________________________________________________________\n",
      "flatten_10 (Flatten)         (None, 1536)              0         \n",
      "_________________________________________________________________\n",
      "dense_10 (Dense)             (None, 1)                 1537      \n",
      "=================================================================\n",
      "Total params: 11,233\n",
      "Trainable params: 11,169\n",
      "Non-trainable params: 64\n",
      "_________________________________________________________________\n"
     ]
    }
   ],
   "source": [
    "def model_two_conv_layer():\n",
    "    model = Sequential()\n",
    "    model.add(Conv2D(filters=32, kernel_size=(3, 3), activation='relu', strides=1, padding='same', data_format='channels_last', input_shape=(26,32,1)))\n",
    "    model.add(MaxPooling2D(pool_size=(2, 2), strides=2, padding='valid' ))\n",
    "    model.add(Conv2D(filters=32, kernel_size=(3, 3), activation='relu', strides=1, padding='same', data_format='channels_last'))\n",
    "    model.add(MaxPooling2D(pool_size=(2, 2), strides=2, padding='valid' ))\n",
    "    model.add(BatchNormalization())\n",
    "    model.add(Flatten())\n",
    "    model.add(Dense(1, activation='sigmoid'))\n",
    "\n",
    "    optimizer = Adam(lr=0.001, beta_1=0.9, beta_2=0.999 )\n",
    "    model.compile(optimizer=optimizer, loss=\"binary_crossentropy\", metrics=[\"accuracy\"])\n",
    "    \n",
    "    return model\n",
    "\n",
    "model_2c2m = model_two_conv_layer()\n",
    "model_2c2m_fg = model_two_conv_layer()\n",
    "model_2c2m_i = model_two_conv_layer()\n",
    "model_2c2m.summary()"
   ]
  },
  {
   "cell_type": "code",
   "execution_count": 7,
   "metadata": {},
   "outputs": [],
   "source": [
    "reduce_lr = LearningRateScheduler(lambda x: 1e-2 * 0.7 ** x)\n",
    "batch_size = 32\n",
    "epochs = 50"
   ]
  },
  {
   "cell_type": "code",
   "execution_count": 8,
   "metadata": {
    "colab": {
     "base_uri": "https://localhost:8080/",
     "height": 816
    },
    "colab_type": "code",
    "id": "dCByHNgtKi0R",
    "outputId": "e727d805-f99a-4be8-898c-a282e905e7a6"
   },
   "outputs": [],
   "source": [
    "# history_1c = model_1c.fit(x_tr, y_tr, validation_data = (x_val, y_val) ,epochs = epochs, verbose=2, callbacks = [reduce_lr], batch_size = batch_size)\n",
    "# history_fg = model_fg.fit(x_tr_fg, y_tr_fg, validation_data = (x_val_fg, y_val_fg) ,epochs = epochs, verbose=2, callbacks = [reduce_lr], batch_size = batch_size)\n",
    "# history_1c_fg = model_1c_fg.fit(x_tr_fg, y_tr_fg, validation_data = (x_val_fg, y_val_fg) ,epochs = epochs, verbose=2, callbacks = [reduce_lr], batch_size = batch_size)\n",
    "# history_i = model_i.fit(x_tr_i, y_tr_i, validation_data = (x_val_i, y_val_i) ,epochs = epochs, verbose=2, callbacks = [reduce_lr], batch_size = batch_size)"
   ]
  },
  {
   "cell_type": "code",
   "execution_count": 9,
   "metadata": {},
   "outputs": [
    {
     "name": "stdout",
     "output_type": "stream",
     "text": [
      "Train on 1000 samples, validate on 900 samples\n",
      "Epoch 1/50\n",
      " - 4s - loss: 0.5270 - acc: 0.7810 - val_loss: 0.4507 - val_acc: 0.8222\n",
      "Epoch 2/50\n",
      " - 1s - loss: 0.4145 - acc: 0.8410 - val_loss: 0.4648 - val_acc: 0.8133\n",
      "Epoch 3/50\n",
      " - 1s - loss: 0.3579 - acc: 0.8670 - val_loss: 0.4611 - val_acc: 0.8267\n",
      "Epoch 4/50\n",
      " - 1s - loss: 0.3455 - acc: 0.8650 - val_loss: 0.4150 - val_acc: 0.8444\n",
      "Epoch 5/50\n",
      " - 1s - loss: 0.3093 - acc: 0.8800 - val_loss: 0.3887 - val_acc: 0.8511\n",
      "Epoch 6/50\n",
      " - 1s - loss: 0.2721 - acc: 0.9020 - val_loss: 0.3933 - val_acc: 0.8533\n",
      "Epoch 7/50\n",
      " - 1s - loss: 0.2435 - acc: 0.9100 - val_loss: 0.3904 - val_acc: 0.8533\n",
      "Epoch 8/50\n",
      " - 1s - loss: 0.2340 - acc: 0.9070 - val_loss: 0.3916 - val_acc: 0.8489\n",
      "Epoch 9/50\n",
      " - 1s - loss: 0.2208 - acc: 0.9240 - val_loss: 0.3910 - val_acc: 0.8556\n",
      "Epoch 10/50\n",
      " - 1s - loss: 0.2199 - acc: 0.9150 - val_loss: 0.3919 - val_acc: 0.8544\n",
      "Epoch 11/50\n",
      " - 1s - loss: 0.2109 - acc: 0.9260 - val_loss: 0.3923 - val_acc: 0.8533\n",
      "Epoch 12/50\n",
      " - 1s - loss: 0.2090 - acc: 0.9300 - val_loss: 0.3945 - val_acc: 0.8567\n",
      "Epoch 13/50\n",
      " - 1s - loss: 0.2083 - acc: 0.9280 - val_loss: 0.3977 - val_acc: 0.8556\n",
      "Epoch 14/50\n",
      " - 1s - loss: 0.2098 - acc: 0.9400 - val_loss: 0.3990 - val_acc: 0.8567\n",
      "Epoch 15/50\n",
      " - 1s - loss: 0.2074 - acc: 0.9250 - val_loss: 0.4010 - val_acc: 0.8544\n",
      "Epoch 16/50\n",
      " - 1s - loss: 0.2082 - acc: 0.9360 - val_loss: 0.4008 - val_acc: 0.8544\n",
      "Epoch 17/50\n",
      " - 1s - loss: 0.1877 - acc: 0.9430 - val_loss: 0.4002 - val_acc: 0.8544\n",
      "Epoch 18/50\n",
      " - 1s - loss: 0.1994 - acc: 0.9400 - val_loss: 0.3989 - val_acc: 0.8567\n",
      "Epoch 19/50\n",
      " - 1s - loss: 0.2105 - acc: 0.9250 - val_loss: 0.3988 - val_acc: 0.8556\n",
      "Epoch 20/50\n",
      " - 1s - loss: 0.1997 - acc: 0.9250 - val_loss: 0.3999 - val_acc: 0.8556\n",
      "Epoch 21/50\n",
      " - 1s - loss: 0.2123 - acc: 0.9220 - val_loss: 0.4004 - val_acc: 0.8556\n",
      "Epoch 22/50\n",
      " - 1s - loss: 0.1981 - acc: 0.9410 - val_loss: 0.4001 - val_acc: 0.8556\n",
      "Epoch 23/50\n",
      " - 1s - loss: 0.2005 - acc: 0.9230 - val_loss: 0.4007 - val_acc: 0.8544\n",
      "Epoch 24/50\n",
      " - 1s - loss: 0.2009 - acc: 0.9350 - val_loss: 0.4002 - val_acc: 0.8556\n",
      "Epoch 25/50\n",
      " - 1s - loss: 0.2033 - acc: 0.9300 - val_loss: 0.4007 - val_acc: 0.8544\n",
      "Epoch 26/50\n",
      " - 1s - loss: 0.2052 - acc: 0.9330 - val_loss: 0.4010 - val_acc: 0.8544\n",
      "Epoch 27/50\n",
      " - 1s - loss: 0.1981 - acc: 0.9340 - val_loss: 0.4014 - val_acc: 0.8544\n",
      "Epoch 28/50\n",
      " - 1s - loss: 0.1977 - acc: 0.9370 - val_loss: 0.4013 - val_acc: 0.8544\n",
      "Epoch 29/50\n",
      " - 1s - loss: 0.1993 - acc: 0.9320 - val_loss: 0.4007 - val_acc: 0.8556\n",
      "Epoch 30/50\n",
      " - 1s - loss: 0.2064 - acc: 0.9350 - val_loss: 0.4014 - val_acc: 0.8544\n",
      "Epoch 31/50\n",
      " - 1s - loss: 0.2043 - acc: 0.9220 - val_loss: 0.4014 - val_acc: 0.8544\n",
      "Epoch 32/50\n",
      " - 1s - loss: 0.2052 - acc: 0.9260 - val_loss: 0.4014 - val_acc: 0.8544\n",
      "Epoch 33/50\n",
      " - 1s - loss: 0.1980 - acc: 0.9180 - val_loss: 0.4011 - val_acc: 0.8544\n",
      "Epoch 34/50\n",
      " - 1s - loss: 0.2013 - acc: 0.9390 - val_loss: 0.4011 - val_acc: 0.8544\n",
      "Epoch 35/50\n",
      " - 1s - loss: 0.1952 - acc: 0.9340 - val_loss: 0.4010 - val_acc: 0.8544\n",
      "Epoch 36/50\n",
      " - 1s - loss: 0.1964 - acc: 0.9400 - val_loss: 0.4009 - val_acc: 0.8556\n",
      "Epoch 37/50\n",
      " - 1s - loss: 0.2040 - acc: 0.9250 - val_loss: 0.4008 - val_acc: 0.8544\n",
      "Epoch 38/50\n",
      " - 1s - loss: 0.2105 - acc: 0.9290 - val_loss: 0.4007 - val_acc: 0.8544\n",
      "Epoch 39/50\n",
      " - 1s - loss: 0.2028 - acc: 0.9370 - val_loss: 0.4011 - val_acc: 0.8544\n",
      "Epoch 40/50\n",
      " - 1s - loss: 0.1976 - acc: 0.9300 - val_loss: 0.4013 - val_acc: 0.8544\n",
      "Epoch 41/50\n",
      " - 1s - loss: 0.2037 - acc: 0.9310 - val_loss: 0.4012 - val_acc: 0.8544\n",
      "Epoch 42/50\n",
      " - 1s - loss: 0.1986 - acc: 0.9310 - val_loss: 0.4004 - val_acc: 0.8556\n",
      "Epoch 43/50\n",
      " - 1s - loss: 0.1920 - acc: 0.9390 - val_loss: 0.4008 - val_acc: 0.8556\n",
      "Epoch 44/50\n",
      " - 1s - loss: 0.2076 - acc: 0.9280 - val_loss: 0.4011 - val_acc: 0.8544\n",
      "Epoch 45/50\n",
      " - 1s - loss: 0.2080 - acc: 0.9290 - val_loss: 0.4004 - val_acc: 0.8544\n",
      "Epoch 46/50\n",
      " - 1s - loss: 0.2124 - acc: 0.9270 - val_loss: 0.4005 - val_acc: 0.8544\n",
      "Epoch 47/50\n",
      " - 1s - loss: 0.2059 - acc: 0.9290 - val_loss: 0.4009 - val_acc: 0.8544\n",
      "Epoch 48/50\n",
      " - 1s - loss: 0.1999 - acc: 0.9370 - val_loss: 0.4008 - val_acc: 0.8544\n",
      "Epoch 49/50\n",
      " - 1s - loss: 0.1978 - acc: 0.9260 - val_loss: 0.4003 - val_acc: 0.8556\n",
      "Epoch 50/50\n",
      " - 1s - loss: 0.2089 - acc: 0.9290 - val_loss: 0.4011 - val_acc: 0.8544\n"
     ]
    }
   ],
   "source": [
    "history_2c2m = model_2c2m.fit(x_tr, y_tr, validation_data = (x_val, y_val) ,epochs = epochs, verbose=2, callbacks = [reduce_lr], batch_size = batch_size)"
   ]
  },
  {
   "cell_type": "code",
   "execution_count": 10,
   "metadata": {},
   "outputs": [
    {
     "name": "stdout",
     "output_type": "stream",
     "text": [
      "Baseline Error: 9.00%\n"
     ]
    },
    {
     "data": {
      "image/png": "[encoded data removed]",
      "text/plain": [
       "<Figure size 432x288 with 1 Axes>"
      ]
     },
     "metadata": {
      "needs_background": "light"
     },
     "output_type": "display_data"
    },
    {
     "data": {
      "image/png": "[encoded data removed]",
      "text/plain": [
       "<Figure size 432x288 with 1 Axes>"
      ]
     },
     "metadata": {
      "needs_background": "light"
     },
     "output_type": "display_data"
    },
    {
     "data": {
      "image/png": "[encoded data removed]",
      "text/plain": [
       "<Figure size 432x288 with 1 Axes>"
      ]
     },
     "metadata": {
      "needs_background": "light"
     },
     "output_type": "display_data"
    }
   ],
   "source": [
    "scores = model_2c2m.evaluate(x_te, y_te, verbose=0)\n",
    "print(\"Baseline Error: %.2f%%\" % (100-scores[1]*100))\n",
    "\n",
    "plt.plot(history_2c2m.history['acc'])\n",
    "plt.plot(history_2c2m.history['val_acc'])\n",
    "plt.title('model accuracy')\n",
    "plt.ylabel('accuracy')\n",
    "plt.xlabel('epoch')\n",
    "plt.legend(['train', 'test'], loc='upper left')\n",
    "plt.show()\n",
    "\n",
    "# summarize history for loss\n",
    "plt.plot(history_2c2m.history['loss'])\n",
    "plt.plot(history_2c2m.history['val_loss'])\n",
    "plt.title('model loss')\n",
    "plt.ylabel('loss')\n",
    "plt.xlabel('epoch')\n",
    "plt.legend(['train', 'test'], loc='upper left')\n",
    "plt.show()\n",
    "\n",
    "from sklearn.metrics import roc_curve\n",
    "\n",
    "y_pred_keras = model_2c2m.predict(x_te).ravel()\n",
    "fpr_keras, tpr_keras, thresholds_keras = roc_curve(y_te, y_pred_keras)\n",
    "\n",
    "from sklearn.metrics import auc\n",
    "auc_keras = auc(fpr_keras, tpr_keras)\n",
    "\n",
    "plt.figure(1)\n",
    "plt.plot([0, 1], [0, 1], 'k--')\n",
    "plt.plot(fpr_keras, tpr_keras, label='Keras (area = {:.3f})'.format(auc_keras))\n",
    "plt.xlabel('False positive rate')\n",
    "plt.ylabel('True positive rate')\n",
    "plt.title('ROC curve')\n",
    "plt.legend(loc='best')\n",
    "plt.show()"
   ]
  },
  {
   "cell_type": "markdown",
   "metadata": {
    "colab_type": "text",
    "id": "2V2g1EiUcLWj"
   },
   "source": [
    "# Conversion to Tensorflow File\n",
    "\n",
    "We need a .pb file in order to run convert our models using the DNNDK (Deep Neural Network Development Kit)\n",
    "\n",
    "We create a frozen graph and use this to get our model.pb file\n"
   ]
  },
  {
   "cell_type": "code",
   "execution_count": 11,
   "metadata": {},
   "outputs": [],
   "source": [
    "def freeze_session(session, keep_var_names=None, output_names=None, clear_devices=True):\n",
    "    \"\"\"\n",
    "    Freezes the state of a session into a pruned computation graph.\n",
    "\n",
    "    Creates a new computation graph where variable nodes are replaced by\n",
    "    constants taking their current value in the session. The new graph will be\n",
    "    pruned so subgraphs that are not necessary to compute the requested\n",
    "    outputs are removed.\n",
    "    @param session The TensorFlow session to be frozen.\n",
    "    @param keep_var_names A list of variable names that should not be frozen,\n",
    "                          or None to freeze all the variables in the graph.\n",
    "    @param output_names Names of the relevant graph outputs.\n",
    "    @param clear_devices Remove the device directives from the graph for better portability.\n",
    "    @return The frozen graph definition.\n",
    "    \"\"\"\n",
    "    graph = session.graph\n",
    "    with graph.as_default():\n",
    "        freeze_var_names = list(set(v.op.name for v in tf.global_variables()).difference(keep_var_names or []))\n",
    "        output_names = output_names or []\n",
    "        output_names += [v.op.name for v in tf.global_variables()]\n",
    "        input_graph_def = graph.as_graph_def()\n",
    "        if clear_devices:\n",
    "            for node in input_graph_def.node:\n",
    "                node.device = \"\"\n",
    "        frozen_graph = tf.graph_util.convert_variables_to_constants(\n",
    "            session, input_graph_def, output_names, freeze_var_names)\n",
    "        return frozen_graph"
   ]
  },
  {
   "cell_type": "code",
   "execution_count": 12,
   "metadata": {},
   "outputs": [],
   "source": [
    "from keras import backend as K\n",
    "import tensorflow as tf"
   ]
  },
  {
   "cell_type": "code",
   "execution_count": 13,
   "metadata": {},
   "outputs": [
    {
     "name": "stdout",
     "output_type": "stream",
     "text": [
      "INFO:tensorflow:Froze 240 variables.\n",
      "INFO:tensorflow:Converted 240 variables to const ops.\n"
     ]
    }
   ],
   "source": [
    "frozen_graph = freeze_session(K.get_session(),\n",
    "                              output_names=[out.op.name for out in model_2c2m.outputs])"
   ]
  },
  {
   "cell_type": "code",
   "execution_count": 14,
   "metadata": {},
   "outputs": [
    {
     "data": {
      "text/plain": [
       "'Tensorflow_model/my_model.pb'"
      ]
     },
     "execution_count": 14,
     "metadata": {},
     "output_type": "execute_result"
    }
   ],
   "source": [
    "tf.train.write_graph(frozen_graph, \"Tensorflow_model\", \"my_model.pb\", as_text=False)"
   ]
  },
  {
   "cell_type": "code",
   "execution_count": 15,
   "metadata": {},
   "outputs": [],
   "source": [
    "from PIL import Image"
   ]
  },
  {
   "cell_type": "markdown",
   "metadata": {},
   "source": [
    "# Saving some Images\n",
    "\n",
    "This saves 100 validation images and 100 test images "
   ]
  },
  {
   "cell_type": "code",
   "execution_count": 16,
   "metadata": {},
   "outputs": [],
   "source": [
    "import matplotlib\n",
    "\n",
    "val_100 = x_val[:100].reshape(-1, 26, 32)\n",
    "for i, val_image in enumerate(val_100):\n",
    "    matplotlib.image.imsave('val_images/' + str(i) + '_val.jpeg',val_image)\n",
    "    \n",
    "test_100 = x_te.reshape(-1, 26, 32)    \n",
    "for i, test_image in enumerate(test_100):\n",
    "    matplotlib.image.imsave('test_images/' + str(i) + '_test.jpeg',test_image)"
   ]
  },
  {
   "cell_type": "code",
   "execution_count": null,
   "metadata": {},
   "outputs": [],
   "source": []
  }
 ],
 "metadata": {
  "colab": {
   "collapsed_sections": [],
   "name": "JZ0W_vs_ZvvHbb (5).ipynb",
   "provenance": [],
   "version": "0.3.2"
  },
  "kernelspec": {
   "display_name": "Python 2",
   "language": "python",
   "name": "python2"
  },
  "language_info": {
   "codemirror_mode": {
    "name": "ipython",
    "version": 2
   },
   "file_extension": ".py",
   "mimetype": "text/x-python",
   "name": "python",
   "nbconvert_exporter": "python",
   "pygments_lexer": "ipython2",
   "version": "2.7.16"
  }
 },
 "nbformat": 4,
 "nbformat_minor": 1
}
