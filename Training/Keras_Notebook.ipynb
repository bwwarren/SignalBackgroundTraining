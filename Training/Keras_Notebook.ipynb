{
 "cells": [
  {
   "cell_type": "markdown",
   "metadata": {},
   "source": [
    "# Keras Notebook\n",
    "\n",
    "This notebook allows us to train detector data using a CNN model using binary classsification. The purpose of this model is to distinguish between ZvvHbb images and JZ0W images. \n",
    "\n",
    "In order to do this we must first convert our data into a convenient format that allows us to load it into a CNN using the Keras API. Then it is a matter of using a convenient CNN model to classify the images."
   ]
  },
  {
   "cell_type": "code",
   "execution_count": 72,
   "metadata": {
    "colab": {},
    "colab_type": "code",
    "id": "l9QAXctTKizH"
   },
   "outputs": [],
   "source": [
    "import numpy as np\n",
    "import pandas as pd \n",
    "import h5py\n",
    "import convert_data\n",
    "\n",
    "import matplotlib.pyplot as plt\n",
    "from matplotlib import colors\n",
    "from matplotlib.colors import Normalize, LogNorm\n",
    "\n",
    "from sklearn.utils import shuffle\n",
    "\n",
    "from keras.models import Sequential, load_model\n",
    "from keras.layers import Dense, Dropout, Flatten, Activation\n",
    "from keras.layers import Conv2D, MaxPooling2D, BatchNormalization\n",
    "from keras.optimizers import Adam,SGD,Adagrad,Adadelta,RMSprop\n",
    "from keras.preprocessing.image import ImageDataGenerator\n",
    "from keras.callbacks import ReduceLROnPlateau, LearningRateScheduler\n",
    "from keras.utils import to_categorical\n",
    "\n",
    "from sklearn.model_selection import train_test_split\n",
    "np.random.seed(7)"
   ]
  },
  {
   "cell_type": "code",
   "execution_count": 73,
   "metadata": {
    "colab": {},
    "colab_type": "code",
    "id": "OprAOpQPKizj"
   },
   "outputs": [],
   "source": [
    "#This loads all of our data and gives us our images and labels in the format we need\n",
    "images, labels = convert_data.images_and_labels()\n",
    "\n",
    "x_tr, x_val, y_tr, y_val = train_test_split(images, labels, test_size=0.5, random_state=42)\n",
    "x_val, x_te, y_val, y_te = train_test_split(x_val, y_val, test_size=0.1, random_state=42)"
   ]
  },
  {
   "cell_type": "markdown",
   "metadata": {},
   "source": [
    "# Model Creation\n",
    "\n",
    "Here is actually where we define our model"
   ]
  },
  {
   "cell_type": "code",
   "execution_count": 84,
   "metadata": {
    "colab": {
     "base_uri": "https://localhost:8080/",
     "height": 139
    },
    "colab_type": "code",
    "id": "l-FB5NkPKi0Q",
    "outputId": "b8009c0e-bc11-47d9-e2e8-3ad288c8135f"
   },
   "outputs": [],
   "source": [
    "def inital_model():\n",
    "    \"\"\"\n",
    "        This is the initial design of our CNN. \n",
    "        It comes from other examples not specific to this dataset but performs pretty well given its generality\n",
    "    \"\"\"\n",
    "    model = Sequential()\n",
    "    model.add(Conv2D(filters=32, kernel_size=(3, 3), activation='relu', strides=1, padding='same', data_format='channels_last',\n",
    "                 input_shape=(26,32,1)))\n",
    "    model.add(BatchNormalization())\n",
    "    model.add(Conv2D(filters=32, kernel_size=(3, 3), activation='relu', strides=1, padding='same', data_format='channels_last'))\n",
    "    model.add(BatchNormalization())\n",
    "    model.add(MaxPooling2D(pool_size=(2, 2), strides=2, padding='valid' ))\n",
    "    model.add(Dropout(0.25))\n",
    "\n",
    "    model.add(Conv2D(filters=64, kernel_size=(3, 3), activation='relu', strides=1, padding='same', data_format='channels_last'))\n",
    "    model.add(BatchNormalization())\n",
    "    model.add(Conv2D(filters=64, kernel_size=(3, 3), strides=1, padding='same', activation='relu', data_format='channels_last'))\n",
    "    model.add(BatchNormalization())\n",
    "    model.add(MaxPooling2D(pool_size=(2, 2), padding='valid', strides=2))\n",
    "    model.add(Dropout(0.25))\n",
    "\n",
    "    model.add(Flatten())\n",
    "    model.add(Dense(512, activation='relu'))\n",
    "    model.add(BatchNormalization())\n",
    "    model.add(Dropout(0.25))\n",
    "    model.add(Dense(1024, activation='relu'))\n",
    "    model.add(BatchNormalization())\n",
    "    model.add(Dropout(0.5))\n",
    "    model.add(Dense(1, activation='sigmoid'))\n",
    "\n",
    "    optimizer = Adam(lr=0.001, beta_1=0.9, beta_2=0.999 )\n",
    "    model.compile(optimizer=optimizer, loss=\"binary_crossentropy\", metrics=[\"accuracy\"])\n",
    "    \n",
    "    return model\n",
    "\n",
    "reduce_lr = LearningRateScheduler(lambda x: 1e-2 * 0.7 ** x)\n",
    "\n",
    "batch_size = 16\n",
    "epochs = 50"
   ]
  },
  {
   "cell_type": "code",
   "execution_count": 85,
   "metadata": {
    "colab": {
     "base_uri": "https://localhost:8080/",
     "height": 816
    },
    "colab_type": "code",
    "id": "dCByHNgtKi0R",
    "outputId": "e727d805-f99a-4be8-898c-a282e905e7a6"
   },
   "outputs": [
    {
     "name": "stdout",
     "output_type": "stream",
     "text": [
      "_________________________________________________________________\n",
      "Layer (type)                 Output Shape              Param #   \n",
      "=================================================================\n",
      "conv2d_37 (Conv2D)           (None, 26, 32, 32)        320       \n",
      "_________________________________________________________________\n",
      "batch_normalization_55 (Batc (None, 26, 32, 32)        128       \n",
      "_________________________________________________________________\n",
      "conv2d_38 (Conv2D)           (None, 26, 32, 32)        9248      \n",
      "_________________________________________________________________\n",
      "batch_normalization_56 (Batc (None, 26, 32, 32)        128       \n",
      "_________________________________________________________________\n",
      "max_pooling2d_19 (MaxPooling (None, 13, 16, 32)        0         \n",
      "_________________________________________________________________\n",
      "dropout_37 (Dropout)         (None, 13, 16, 32)        0         \n",
      "_________________________________________________________________\n",
      "conv2d_39 (Conv2D)           (None, 13, 16, 64)        18496     \n",
      "_________________________________________________________________\n",
      "batch_normalization_57 (Batc (None, 13, 16, 64)        256       \n",
      "_________________________________________________________________\n",
      "conv2d_40 (Conv2D)           (None, 13, 16, 64)        36928     \n",
      "_________________________________________________________________\n",
      "batch_normalization_58 (Batc (None, 13, 16, 64)        256       \n",
      "_________________________________________________________________\n",
      "max_pooling2d_20 (MaxPooling (None, 6, 8, 64)          0         \n",
      "_________________________________________________________________\n",
      "dropout_38 (Dropout)         (None, 6, 8, 64)          0         \n",
      "_________________________________________________________________\n",
      "flatten_10 (Flatten)         (None, 3072)              0         \n",
      "_________________________________________________________________\n",
      "dense_28 (Dense)             (None, 512)               1573376   \n",
      "_________________________________________________________________\n",
      "batch_normalization_59 (Batc (None, 512)               2048      \n",
      "_________________________________________________________________\n",
      "dropout_39 (Dropout)         (None, 512)               0         \n",
      "_________________________________________________________________\n",
      "dense_29 (Dense)             (None, 1024)              525312    \n",
      "_________________________________________________________________\n",
      "batch_normalization_60 (Batc (None, 1024)              4096      \n",
      "_________________________________________________________________\n",
      "dropout_40 (Dropout)         (None, 1024)              0         \n",
      "_________________________________________________________________\n",
      "dense_30 (Dense)             (None, 1)                 1025      \n",
      "=================================================================\n",
      "Total params: 2,171,617\n",
      "Trainable params: 2,168,161\n",
      "Non-trainable params: 3,456\n",
      "_________________________________________________________________\n"
     ]
    }
   ],
   "source": [
    "model = inital_model()\n",
    "\n",
    "model.summary()"
   ]
  },
  {
   "cell_type": "code",
   "execution_count": 86,
   "metadata": {
    "colab": {
     "base_uri": "https://localhost:8080/",
     "height": 785
    },
    "colab_type": "code",
    "id": "B6Drd1xsKi0W",
    "outputId": "48fbd611-f4bc-4eee-dec4-234265414010"
   },
   "outputs": [
    {
     "name": "stdout",
     "output_type": "stream",
     "text": [
      "Train on 1000 samples, validate on 900 samples\n",
      "Epoch 1/50\n",
      " - 22s - loss: 1.2432 - acc: 0.6670 - val_loss: 5.0503 - val_acc: 0.5067\n",
      "Epoch 2/50\n",
      " - 13s - loss: 0.7185 - acc: 0.7210 - val_loss: 0.7902 - val_acc: 0.5644\n",
      "Epoch 3/50\n",
      " - 13s - loss: 0.6496 - acc: 0.7360 - val_loss: 0.4902 - val_acc: 0.7900\n",
      "Epoch 4/50\n",
      " - 13s - loss: 0.4690 - acc: 0.8050 - val_loss: 0.4696 - val_acc: 0.8033\n",
      "Epoch 5/50\n",
      " - 13s - loss: 0.4547 - acc: 0.8030 - val_loss: 0.4732 - val_acc: 0.7989\n",
      "Epoch 6/50\n",
      " - 13s - loss: 0.3356 - acc: 0.8500 - val_loss: 0.6989 - val_acc: 0.7400\n",
      "Epoch 7/50\n",
      " - 13s - loss: 0.3280 - acc: 0.8610 - val_loss: 0.7536 - val_acc: 0.7500\n",
      "Epoch 8/50\n",
      " - 13s - loss: 0.2735 - acc: 0.8930 - val_loss: 0.5207 - val_acc: 0.7856\n",
      "Epoch 9/50\n",
      " - 13s - loss: 0.2544 - acc: 0.8950 - val_loss: 0.5377 - val_acc: 0.7967\n",
      "Epoch 10/50\n",
      " - 13s - loss: 0.2679 - acc: 0.8950 - val_loss: 0.6512 - val_acc: 0.7744\n",
      "Epoch 11/50\n",
      " - 13s - loss: 0.2441 - acc: 0.9060 - val_loss: 0.6006 - val_acc: 0.7944\n",
      "Epoch 12/50\n",
      " - 13s - loss: 0.2524 - acc: 0.9070 - val_loss: 0.6269 - val_acc: 0.7878\n",
      "Epoch 13/50\n",
      " - 13s - loss: 0.1894 - acc: 0.9300 - val_loss: 0.6704 - val_acc: 0.7878\n",
      "Epoch 14/50\n",
      " - 13s - loss: 0.1872 - acc: 0.9260 - val_loss: 0.6208 - val_acc: 0.7967\n",
      "Epoch 15/50\n",
      " - 13s - loss: 0.2375 - acc: 0.8980 - val_loss: 0.6038 - val_acc: 0.7989\n",
      "Epoch 16/50\n",
      " - 14s - loss: 0.2335 - acc: 0.9030 - val_loss: 0.6019 - val_acc: 0.7967\n",
      "Epoch 17/50\n",
      " - 14s - loss: 0.2170 - acc: 0.9090 - val_loss: 0.5834 - val_acc: 0.8022\n",
      "Epoch 18/50\n",
      " - 13s - loss: 0.2052 - acc: 0.9120 - val_loss: 0.5828 - val_acc: 0.8033\n",
      "Epoch 19/50\n",
      " - 13s - loss: 0.2028 - acc: 0.9130 - val_loss: 0.5857 - val_acc: 0.8033\n",
      "Epoch 20/50\n",
      " - 13s - loss: 0.1917 - acc: 0.9140 - val_loss: 0.5933 - val_acc: 0.8011\n",
      "Epoch 21/50\n",
      " - 13s - loss: 0.1883 - acc: 0.9220 - val_loss: 0.5910 - val_acc: 0.8011\n",
      "Epoch 22/50\n",
      " - 13s - loss: 0.2009 - acc: 0.9230 - val_loss: 0.5792 - val_acc: 0.8022\n",
      "Epoch 23/50\n",
      " - 13s - loss: 0.1655 - acc: 0.9340 - val_loss: 0.5892 - val_acc: 0.8022\n",
      "Epoch 24/50\n",
      " - 13s - loss: 0.1845 - acc: 0.9300 - val_loss: 0.5805 - val_acc: 0.8022\n",
      "Epoch 25/50\n",
      " - 13s - loss: 0.1721 - acc: 0.9360 - val_loss: 0.5890 - val_acc: 0.8011\n",
      "Epoch 26/50\n",
      " - 13s - loss: 0.1808 - acc: 0.9340 - val_loss: 0.5872 - val_acc: 0.8033\n",
      "Epoch 27/50\n",
      " - 13s - loss: 0.2029 - acc: 0.9110 - val_loss: 0.5884 - val_acc: 0.8033\n",
      "Epoch 28/50\n",
      " - 13s - loss: 0.2136 - acc: 0.9220 - val_loss: 0.5894 - val_acc: 0.8022\n",
      "Epoch 29/50\n",
      " - 13s - loss: 0.1900 - acc: 0.9270 - val_loss: 0.5828 - val_acc: 0.8033\n",
      "Epoch 30/50\n",
      " - 13s - loss: 0.2062 - acc: 0.9260 - val_loss: 0.5811 - val_acc: 0.8033\n",
      "Epoch 31/50\n",
      " - 13s - loss: 0.2074 - acc: 0.9220 - val_loss: 0.5930 - val_acc: 0.7989\n",
      "Epoch 32/50\n",
      " - 13s - loss: 0.1833 - acc: 0.9250 - val_loss: 0.5850 - val_acc: 0.8022\n",
      "Epoch 33/50\n",
      " - 13s - loss: 0.2026 - acc: 0.9140 - val_loss: 0.5797 - val_acc: 0.8022\n",
      "Epoch 34/50\n",
      " - 13s - loss: 0.1875 - acc: 0.9210 - val_loss: 0.5871 - val_acc: 0.8022\n",
      "Epoch 35/50\n",
      " - 13s - loss: 0.2250 - acc: 0.9160 - val_loss: 0.5988 - val_acc: 0.8022\n",
      "Epoch 36/50\n",
      " - 13s - loss: 0.2001 - acc: 0.9190 - val_loss: 0.6025 - val_acc: 0.8011\n",
      "Epoch 37/50\n",
      " - 13s - loss: 0.1742 - acc: 0.9290 - val_loss: 0.6048 - val_acc: 0.8022\n",
      "Epoch 38/50\n",
      " - 13s - loss: 0.1943 - acc: 0.9290 - val_loss: 0.5882 - val_acc: 0.8033\n",
      "Epoch 39/50\n",
      " - 13s - loss: 0.1811 - acc: 0.9290 - val_loss: 0.5931 - val_acc: 0.8011\n",
      "Epoch 40/50\n",
      " - 13s - loss: 0.1862 - acc: 0.9250 - val_loss: 0.5928 - val_acc: 0.8011\n",
      "Epoch 41/50\n",
      " - 13s - loss: 0.2332 - acc: 0.9050 - val_loss: 0.5970 - val_acc: 0.8022\n",
      "Epoch 42/50\n",
      " - 13s - loss: 0.1765 - acc: 0.9310 - val_loss: 0.5894 - val_acc: 0.8033\n",
      "Epoch 43/50\n",
      " - 13s - loss: 0.2282 - acc: 0.9120 - val_loss: 0.5939 - val_acc: 0.8022\n",
      "Epoch 44/50\n",
      " - 13s - loss: 0.1914 - acc: 0.9260 - val_loss: 0.5963 - val_acc: 0.8011\n",
      "Epoch 45/50\n",
      " - 13s - loss: 0.2098 - acc: 0.9130 - val_loss: 0.6078 - val_acc: 0.7989\n",
      "Epoch 46/50\n",
      " - 13s - loss: 0.1933 - acc: 0.9230 - val_loss: 0.6091 - val_acc: 0.8000\n",
      "Epoch 47/50\n",
      " - 13s - loss: 0.1672 - acc: 0.9340 - val_loss: 0.6094 - val_acc: 0.7989\n",
      "Epoch 48/50\n",
      " - 13s - loss: 0.1841 - acc: 0.9240 - val_loss: 0.6079 - val_acc: 0.8000\n",
      "Epoch 49/50\n",
      " - 13s - loss: 0.2147 - acc: 0.9150 - val_loss: 0.6104 - val_acc: 0.7989\n",
      "Epoch 50/50\n",
      " - 13s - loss: 0.2144 - acc: 0.9140 - val_loss: 0.5894 - val_acc: 0.8044\n"
     ]
    }
   ],
   "source": [
    "history = model.fit(x_tr, y_tr, validation_data = (x_val, y_val) ,epochs = epochs, verbose=2, callbacks = [reduce_lr], batch_size = batch_size)"
   ]
  },
  {
   "cell_type": "code",
   "execution_count": 87,
   "metadata": {
    "colab": {
     "base_uri": "https://localhost:8080/",
     "height": 34
    },
    "colab_type": "code",
    "id": "fj4RvM3GKi0X",
    "outputId": "8cf72b30-76be-4289-8dcf-a5d391712e36"
   },
   "outputs": [
    {
     "name": "stdout",
     "output_type": "stream",
     "text": [
      "Baseline Error: 10.00%\n"
     ]
    }
   ],
   "source": [
    "scores = model.evaluate(x_te, y_te, verbose=0)\n",
    "print(\"Baseline Error: %.2f%%\" % (100-scores[1]*100))"
   ]
  },
  {
   "cell_type": "code",
   "execution_count": 88,
   "metadata": {
    "colab": {
     "base_uri": "https://localhost:8080/",
     "height": 34
    },
    "colab_type": "code",
    "id": "w5TOvJuEKi0Z",
    "outputId": "1d74e473-10fb-41ef-a533-e92133064b58"
   },
   "outputs": [
    {
     "name": "stdout",
     "output_type": "stream",
     "text": [
      "['acc', 'loss', 'val_acc', 'val_loss', 'lr']\n"
     ]
    }
   ],
   "source": [
    "print(history.history.keys())"
   ]
  },
  {
   "cell_type": "code",
   "execution_count": 89,
   "metadata": {
    "colab": {
     "base_uri": "https://localhost:8080/",
     "height": 735
    },
    "colab_type": "code",
    "id": "Fv72SWL2Ki0a",
    "outputId": "398b9eb7-80c3-43fc-de8f-9801dc6f97ab"
   },
   "outputs": [
    {
     "data": {
      "image/png": "[encoded data removed]",
      "text/plain": [
       "<Figure size 432x288 with 1 Axes>"
      ]
     },
     "metadata": {
      "needs_background": "light"
     },
     "output_type": "display_data"
    },
    {
     "data": {
      "image/png": "[encoded data removed]",
      "text/plain": [
       "<Figure size 432x288 with 1 Axes>"
      ]
     },
     "metadata": {
      "needs_background": "light"
     },
     "output_type": "display_data"
    }
   ],
   "source": [
    "plt.plot(history.history['acc'])\n",
    "plt.plot(history.history['val_acc'])\n",
    "plt.title('model accuracy')\n",
    "plt.ylabel('accuracy')\n",
    "plt.xlabel('epoch')\n",
    "plt.legend(['train', 'test'], loc='upper left')\n",
    "plt.show()\n",
    "\n",
    "# summarize history for loss\n",
    "plt.plot(history.history['loss'])\n",
    "plt.plot(history.history['val_loss'])\n",
    "plt.title('model loss')\n",
    "plt.ylabel('loss')\n",
    "plt.xlabel('epoch')\n",
    "plt.legend(['train', 'test'], loc='upper left')\n",
    "plt.show()"
   ]
  },
  {
   "cell_type": "code",
   "execution_count": 135,
   "metadata": {
    "colab": {},
    "colab_type": "code",
    "id": "gMfQ-fb3Ki0d"
   },
   "outputs": [],
   "source": [
    "from sklearn.metrics import roc_curve\n",
    "\n",
    "y_pred_keras = model.predict(x_te).ravel()\n",
    "fpr_keras, tpr_keras, thresholds_keras = roc_curve(y_te, y_pred_keras)"
   ]
  },
  {
   "cell_type": "code",
   "execution_count": 136,
   "metadata": {
    "colab": {},
    "colab_type": "code",
    "id": "uDvv9fVjKi0g"
   },
   "outputs": [],
   "source": [
    "from sklearn.metrics import auc\n",
    "auc_keras = auc(fpr_keras, tpr_keras)"
   ]
  },
  {
   "cell_type": "code",
   "execution_count": 137,
   "metadata": {
    "colab": {
     "base_uri": "https://localhost:8080/",
     "height": 376
    },
    "colab_type": "code",
    "id": "92psfr_iKi0i",
    "outputId": "c6239982-29d9-4154-9c2e-41a7567f75f0"
   },
   "outputs": [
    {
     "data": {
      "image/png": "[encoded data removed]",
      "text/plain": [
       "<Figure size 432x288 with 1 Axes>"
      ]
     },
     "metadata": {
      "needs_background": "light"
     },
     "output_type": "display_data"
    }
   ],
   "source": [
    "plt.figure(1)\n",
    "plt.plot([0, 1], [0, 1], 'k--')\n",
    "plt.plot(fpr_keras, tpr_keras, label='Keras (area = {:.3f})'.format(auc_keras))\n",
    "plt.xlabel('False positive rate')\n",
    "plt.ylabel('True positive rate')\n",
    "plt.title('ROC curve')\n",
    "plt.legend(loc='best')\n",
    "plt.show()"
   ]
  },
  {
   "cell_type": "markdown",
   "metadata": {
    "colab_type": "text",
    "id": "2V2g1EiUcLWj"
   },
   "source": [
    "# Conclusion\n",
    "\n",
    "We are able to get fairly good accuracy for this model. However, it takes a long time because it has a lot of parameters. Furthermore, it is overfitting as can be seen from the diverging validation accuracy and Baseline error.\n"
   ]
  },
  {
   "cell_type": "code",
   "execution_count": 139,
   "metadata": {},
   "outputs": [
    {
     "data": {
      "image/png": "[encoded data removed]",
      "text/plain": [
       "<Figure size 432x288 with 1 Axes>"
      ]
     },
     "metadata": {
      "needs_background": "light"
     },
     "output_type": "display_data"
    }
   ],
   "source": [
    "plt.figure(1)\n",
    "for i, val in enumerate(fpr_keras):\n",
    "    if val == 0:\n",
    "        fpr_keras[i] = 0.01\n",
    "        \n",
    "plt.plot(100*tpr_keras, 1.0/fpr_keras)\n",
    "plt.xlabel('Signal Efficiency')\n",
    "plt.ylabel('Background Efficiency')\n",
    "plt.xlim(0, 100)\n",
    "plt.title('Signal curve')\n",
    "plt.show()"
   ]
  },
  {
   "cell_type": "code",
   "execution_count": null,
   "metadata": {},
   "outputs": [],
   "source": []
  }
 ],
 "metadata": {
  "colab": {
   "collapsed_sections": [],
   "name": "JZ0W_vs_ZvvHbb (5).ipynb",
   "provenance": [],
   "version": "0.3.2"
  },
  "kernelspec": {
   "display_name": "Python 2",
   "language": "python",
   "name": "python2"
  },
  "language_info": {
   "codemirror_mode": {
    "name": "ipython",
    "version": 2
   },
   "file_extension": ".py",
   "mimetype": "text/x-python",
   "name": "python",
   "nbconvert_exporter": "python",
   "pygments_lexer": "ipython2",
   "version": "2.7.16"
  }
 },
 "nbformat": 4,
 "nbformat_minor": 1
}
