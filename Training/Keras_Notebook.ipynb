{
 "cells": [
  {
   "cell_type": "markdown",
   "metadata": {},
   "source": [
    "# Keras Notebook\n",
    "\n",
    "This notebook allows us to train detector data using a CNN model using binary classsification. The purpose of this model is to distinguish between ZvvHbb images and JZ0W images. \n",
    "\n",
    "In order to do this we must first convert our data into a convenient format that allows us to load it into a CNN using the Keras API. Then it is a matter of using a convenient CNN model to classify the images."
   ]
  },
  {
   "cell_type": "code",
   "execution_count": 1,
   "metadata": {
    "colab": {},
    "colab_type": "code",
    "id": "l9QAXctTKizH"
   },
   "outputs": [
    {
     "name": "stderr",
     "output_type": "stream",
     "text": [
      "Using TensorFlow backend.\n"
     ]
    }
   ],
   "source": [
    "import numpy as np\n",
    "import pandas as pd \n",
    "import h5py\n",
    "import convert_data\n",
    "\n",
    "import matplotlib.pyplot as plt\n",
    "from matplotlib import colors\n",
    "import matplotlib\n",
    "\n",
    "from sklearn.utils import shuffle\n",
    "\n",
    "from keras.models import Sequential, load_model\n",
    "from keras.layers import Dense, Dropout, Flatten, Activation\n",
    "from keras.layers import Conv2D, MaxPooling2D, BatchNormalization\n",
    "from keras.optimizers import Adam,SGD,Adagrad,Adadelta,RMSprop\n",
    "from keras.preprocessing.image import ImageDataGenerator\n",
    "from keras.callbacks import ReduceLROnPlateau, LearningRateScheduler\n",
    "from keras.utils import to_categorical\n",
    "\n",
    "from sklearn.model_selection import train_test_split\n",
    "np.random.seed(7)"
   ]
  },
  {
   "cell_type": "code",
   "execution_count": 2,
   "metadata": {
    "colab": {},
    "colab_type": "code",
    "id": "OprAOpQPKizj"
   },
   "outputs": [],
   "source": [
    "#This loads all of our data and gives us our images and labels in the format we need\n",
    "\n",
    "images, labels = convert_data.images_and_labels()\n",
    "\n",
    "x_tr, x_val, y_tr, y_val = train_test_split(images, labels, test_size=0.5, random_state=42)\n",
    "x_val, x_te, y_val, y_te = train_test_split(x_val, y_val, test_size=0.1, random_state=42)\n",
    "\n",
    "x_tr = x_tr.reshape(-1, 26, 32)\n",
    "for i, train_image in enumerate(x_tr):\n",
    "    matplotlib.image.imsave('train_images/' + str(i) + '_train.jpeg',train_image)\n",
    "\n",
    "x_val = x_val.reshape(-1, 26, 32)\n",
    "for j, val_image in enumerate(x_val):\n",
    "    matplotlib.image.imsave('val_images/' + str(j) + '_val.jpeg',val_image)\n",
    "    \n",
    "x_te = x_te.reshape(-1, 26, 32)    \n",
    "for k, test_image in enumerate(x_te):\n",
    "    matplotlib.image.imsave('test_images/' + str(k) + '_test.jpeg',test_image)\n",
    "    \n",
    "\n",
    "# x_tr_fg, x_val_fg, y_tr_fg, y_val_fg = train_test_split(images_first_group, labels, test_size=0.5, random_state=42)\n",
    "# x_val_fg, x_te_fg, y_val_fg, y_te_fg = train_test_split(x_val_fg, y_val_fg, test_size=0.1, random_state=42)\n",
    "\n",
    "# x_tr_i, x_val_i, y_tr_i, y_val_i = train_test_split(images_individual, labels, test_size=0.5, random_state=42)\n",
    "# x_val_i, x_te_i, y_val_i, y_te_i = train_test_split(x_val_i, y_val_i, test_size=0.1, random_state=42)\n",
    "\n"
   ]
  },
  {
   "cell_type": "code",
   "execution_count": 3,
   "metadata": {},
   "outputs": [
    {
     "name": "stdout",
     "output_type": "stream",
     "text": [
      "(1000, 26, 32, 3)\n",
      "(900, 26, 32, 3)\n",
      "(100, 26, 32, 3)\n"
     ]
    }
   ],
   "source": [
    "from PIL import Image\n",
    "x_tr = []\n",
    "for i in range(1000):\n",
    "    im = Image.open('train_images/'+ str(i) + '_train.jpeg')\n",
    "    val = list(np.asarray(im))\n",
    "    x_tr.append(val)\n",
    "\n",
    "x_tr = np.array(x_tr)\n",
    "print(x_tr.shape)\n",
    "\n",
    "x_val = []\n",
    "for j in range(900):\n",
    "    im = Image.open('val_images/'+ str(j) + '_val.jpeg')\n",
    "    val = list(np.asarray(im))\n",
    "    x_val.append(val)\n",
    "\n",
    "x_val = np.array(x_val)\n",
    "print(x_val.shape)\n",
    "\n",
    "x_te = []\n",
    "for k in range(100):\n",
    "    im = Image.open('test_images/'+ str(k) + '_test.jpeg')\n",
    "    val = list(np.asarray(im))\n",
    "    x_te.append(val)\n",
    "\n",
    "x_te = np.array(x_te)\n",
    "print(x_te.shape)\n"
   ]
  },
  {
   "cell_type": "code",
   "execution_count": null,
   "metadata": {},
   "outputs": [],
   "source": []
  },
  {
   "cell_type": "markdown",
   "metadata": {},
   "source": [
    "# Model Creation\n",
    "\n",
    "Here we define various differen models and train them on various normalized datasets."
   ]
  },
  {
   "cell_type": "code",
   "execution_count": 4,
   "metadata": {
    "colab": {
     "base_uri": "https://localhost:8080/",
     "height": 139
    },
    "colab_type": "code",
    "id": "l-FB5NkPKi0Q",
    "outputId": "b8009c0e-bc11-47d9-e2e8-3ad288c8135f"
   },
   "outputs": [],
   "source": [
    "# def model_one_conv_layer():\n",
    "#     model = Sequential()\n",
    "#     model.add(Conv2D(filters=32, kernel_size=(3, 3), activation='relu', strides=1, padding='same', data_format='channels_last', input_shape=(26,32,3)))\n",
    "#     model.add(BatchNormalization())\n",
    "#     model.add(Flatten())\n",
    "#     model.add(Dense(1, activation='sigmoid'))\n",
    "\n",
    "#     optimizer = Adam(lr=0.001, beta_1=0.9, beta_2=0.999 )\n",
    "#     model.compile(optimizer=optimizer, loss=\"binary_crossentropy\", metrics=[\"accuracy\"])\n",
    "    \n",
    "#     return model\n",
    "\n",
    "# model_1c = model_one_conv_layer()\n",
    "# model_1c_fg = model_one_conv_layer()\n",
    "# model_1c_i = model_one_conv_layer()\n",
    "# model_1c.summary()"
   ]
  },
  {
   "cell_type": "code",
   "execution_count": 5,
   "metadata": {},
   "outputs": [],
   "source": [
    "# def model_two_conv_layer():\n",
    "#     model = Sequential()\n",
    "#     model.add(Conv2D(filters=32, kernel_size=(3, 3), activation='relu', strides=1, padding='same', data_format='channels_last', input_shape=(26,32,1)))\n",
    "#     model.add(Conv2D(filters=32, kernel_size=(3, 3), activation='relu', strides=1, padding='same', data_format='channels_last'))\n",
    "#     model.add(BatchNormalization())\n",
    "#     model.add(Flatten())\n",
    "#     model.add(Dense(1, activation='sigmoid'))\n",
    "\n",
    "#     optimizer = Adam(lr=0.001, beta_1=0.9, beta_2=0.999 )\n",
    "#     model.compile(optimizer=optimizer, loss=\"binary_crossentropy\", metrics=[\"accuracy\"])\n",
    "    \n",
    "#     return model\n",
    "\n",
    "# model_2c = model_two_conv_layer()\n",
    "# model_2c_fg = model_two_conv_layer()\n",
    "# model_2c_i = model_two_conv_layer()\n",
    "# model_2c.summary()"
   ]
  },
  {
   "cell_type": "code",
   "execution_count": 6,
   "metadata": {},
   "outputs": [],
   "source": [
    "# def model_one_conv_one_max():\n",
    "#     model = Sequential()\n",
    "#     model.add(Conv2D(filters=32, kernel_size=(3, 3), activation='relu', strides=1, padding='same', data_format='channels_last', input_shape=(26,32,1)))\n",
    "#     model.add(MaxPooling2D(pool_size=(2, 2), strides=2, padding='valid' ))\n",
    "#     model.add(BatchNormalization())\n",
    "#     model.add(Flatten())\n",
    "#     model.add(Dense(1, activation='sigmoid'))\n",
    "\n",
    "#     optimizer = Adam(lr=0.001, beta_1=0.9, beta_2=0.999 )\n",
    "#     model.compile(optimizer=optimizer, loss=\"binary_crossentropy\", metrics=[\"accuracy\"])\n",
    "    \n",
    "#     return model\n",
    "\n",
    "# model_1c1m = model_one_conv_one_max()\n",
    "# model_1c1m_fg = model_one_conv_one_max()\n",
    "# model_1c1m_i = model_one_conv_one_max()\n",
    "# model_1c1m.summary()"
   ]
  },
  {
   "cell_type": "code",
   "execution_count": 8,
   "metadata": {},
   "outputs": [
    {
     "name": "stdout",
     "output_type": "stream",
     "text": [
      "_________________________________________________________________\n",
      "Layer (type)                 Output Shape              Param #   \n",
      "=================================================================\n",
      "conv2d_13 (Conv2D)           (None, 26, 32, 32)        896       \n",
      "_________________________________________________________________\n",
      "max_pooling2d_13 (MaxPooling (None, 13, 16, 32)        0         \n",
      "_________________________________________________________________\n",
      "conv2d_14 (Conv2D)           (None, 13, 16, 32)        9248      \n",
      "_________________________________________________________________\n",
      "batch_normalization_4 (Batch (None, 13, 16, 32)        128       \n",
      "_________________________________________________________________\n",
      "flatten_7 (Flatten)          (None, 6656)              0         \n",
      "_________________________________________________________________\n",
      "dense_7 (Dense)              (None, 1)                 6657      \n",
      "=================================================================\n",
      "Total params: 16,929\n",
      "Trainable params: 16,865\n",
      "Non-trainable params: 64\n",
      "_________________________________________________________________\n"
     ]
    }
   ],
   "source": [
    "def model_two_conv_two_max_layer():\n",
    "    model = Sequential()\n",
    "    model.add(Conv2D(filters=32, kernel_size=(3, 3), activation='relu', strides=1, padding='same', data_format='channels_last', input_shape=(26,32,3)))\n",
    "    model.add(MaxPooling2D(pool_size=(2, 2), strides=2, padding='valid' ))\n",
    "    model.add(Conv2D(filters=32, kernel_size=(3, 3), activation='relu', strides=1, padding='same', data_format='channels_last'))\n",
    "    model.add(BatchNormalization())\n",
    "    model.add(Flatten())\n",
    "    model.add(Dense(1, activation='sigmoid'))\n",
    "\n",
    "    optimizer = Adam(lr=0.001, beta_1=0.9, beta_2=0.999 )\n",
    "    model.compile(optimizer=optimizer, loss=\"binary_crossentropy\", metrics=[\"accuracy\"])\n",
    "    \n",
    "    return model\n",
    "\n",
    "model_2c2m = model_two_conv_two_max_layer()\n",
    "model_2c2m.summary()"
   ]
  },
  {
   "cell_type": "code",
   "execution_count": 9,
   "metadata": {},
   "outputs": [],
   "source": [
    "reduce_lr = LearningRateScheduler(lambda x: 1e-2 * 0.7 ** x)\n",
    "batch_size = 32\n",
    "epochs = 50"
   ]
  },
  {
   "cell_type": "code",
   "execution_count": 10,
   "metadata": {
    "colab": {
     "base_uri": "https://localhost:8080/",
     "height": 816
    },
    "colab_type": "code",
    "id": "dCByHNgtKi0R",
    "outputId": "e727d805-f99a-4be8-898c-a282e905e7a6"
   },
   "outputs": [],
   "source": [
    "# history_1c = model_1c.fit(x_tr, y_tr, validation_data = (x_val, y_val) ,epochs = epochs, verbose=2, callbacks = [reduce_lr], batch_size = batch_size)\n",
    "# history_fg = model_fg.fit(x_tr_fg, y_tr_fg, validation_data = (x_val_fg, y_val_fg) ,epochs = epochs, verbose=2, callbacks = [reduce_lr], batch_size = batch_size)\n",
    "# history_1c_fg = model_1c_fg.fit(x_tr_fg, y_tr_fg, validation_data = (x_val_fg, y_val_fg) ,epochs = epochs, verbose=2, callbacks = [reduce_lr], batch_size = batch_size)\n",
    "# history_i = model_i.fit(x_tr_i, y_tr_i, validation_data = (x_val_i, y_val_i) ,epochs = epochs, verbose=2, callbacks = [reduce_lr], batch_size = batch_size)"
   ]
  },
  {
   "cell_type": "code",
   "execution_count": 11,
   "metadata": {},
   "outputs": [
    {
     "name": "stdout",
     "output_type": "stream",
     "text": [
      "Train on 1000 samples, validate on 900 samples\n",
      "Epoch 1/50\n",
      " - 2s - loss: 2.5271 - acc: 0.7940 - val_loss: 7.1200 - val_acc: 0.5456\n",
      "Epoch 2/50\n",
      " - 1s - loss: 2.9641 - acc: 0.8000 - val_loss: 3.7583 - val_acc: 0.7556\n",
      "Epoch 3/50\n",
      " - 1s - loss: 2.3718 - acc: 0.8180 - val_loss: 2.3235 - val_acc: 0.8133\n",
      "Epoch 4/50\n",
      " - 1s - loss: 1.0529 - acc: 0.7590 - val_loss: 1.2545 - val_acc: 0.8200\n",
      "Epoch 5/50\n",
      " - 1s - loss: 0.6825 - acc: 0.7950 - val_loss: 0.7892 - val_acc: 0.5500\n",
      "Epoch 6/50\n",
      " - 1s - loss: 0.4267 - acc: 0.8180 - val_loss: 0.4374 - val_acc: 0.8233\n",
      "Epoch 7/50\n",
      " - 1s - loss: 0.4626 - acc: 0.8240 - val_loss: 0.4461 - val_acc: 0.8244\n",
      "Epoch 8/50\n",
      " - 1s - loss: 0.4163 - acc: 0.8260 - val_loss: 0.4436 - val_acc: 0.8267\n",
      "Epoch 9/50\n",
      " - 1s - loss: 0.3998 - acc: 0.8250 - val_loss: 0.4204 - val_acc: 0.8056\n",
      "Epoch 10/50\n",
      " - 1s - loss: 0.4003 - acc: 0.8240 - val_loss: 0.4045 - val_acc: 0.8289\n",
      "Epoch 11/50\n",
      " - 1s - loss: 0.3977 - acc: 0.8430 - val_loss: 0.4056 - val_acc: 0.8200\n",
      "Epoch 12/50\n",
      " - 1s - loss: 0.3949 - acc: 0.8230 - val_loss: 0.4065 - val_acc: 0.8211\n",
      "Epoch 13/50\n",
      " - 1s - loss: 0.3908 - acc: 0.8320 - val_loss: 0.4041 - val_acc: 0.8167\n",
      "Epoch 14/50\n",
      " - 1s - loss: 0.3791 - acc: 0.8310 - val_loss: 0.4049 - val_acc: 0.8222\n",
      "Epoch 15/50\n",
      " - 1s - loss: 0.3895 - acc: 0.8430 - val_loss: 0.4055 - val_acc: 0.8156\n",
      "Epoch 16/50\n",
      " - 1s - loss: 0.3857 - acc: 0.8410 - val_loss: 0.4021 - val_acc: 0.8178\n",
      "Epoch 17/50\n",
      " - 1s - loss: 0.3787 - acc: 0.8410 - val_loss: 0.4021 - val_acc: 0.8167\n",
      "Epoch 18/50\n",
      " - 1s - loss: 0.3902 - acc: 0.8390 - val_loss: 0.4029 - val_acc: 0.8144\n",
      "Epoch 19/50\n",
      " - 1s - loss: 0.3801 - acc: 0.8280 - val_loss: 0.4024 - val_acc: 0.8167\n",
      "Epoch 20/50\n",
      " - 1s - loss: 0.3886 - acc: 0.8400 - val_loss: 0.4023 - val_acc: 0.8156\n",
      "Epoch 21/50\n",
      " - 1s - loss: 0.3803 - acc: 0.8420 - val_loss: 0.4022 - val_acc: 0.8178\n",
      "Epoch 22/50\n",
      " - 1s - loss: 0.3856 - acc: 0.8340 - val_loss: 0.4018 - val_acc: 0.8178\n",
      "Epoch 23/50\n",
      " - 1s - loss: 0.3756 - acc: 0.8400 - val_loss: 0.4018 - val_acc: 0.8178\n",
      "Epoch 24/50\n",
      " - 1s - loss: 0.3756 - acc: 0.8410 - val_loss: 0.4017 - val_acc: 0.8178\n",
      "Epoch 25/50\n",
      " - 1s - loss: 0.3804 - acc: 0.8330 - val_loss: 0.4017 - val_acc: 0.8178\n",
      "Epoch 26/50\n",
      " - 1s - loss: 0.3838 - acc: 0.8380 - val_loss: 0.4016 - val_acc: 0.8189\n",
      "Epoch 27/50\n",
      " - 1s - loss: 0.3763 - acc: 0.8490 - val_loss: 0.4014 - val_acc: 0.8189\n",
      "Epoch 28/50\n",
      " - 1s - loss: 0.3855 - acc: 0.8340 - val_loss: 0.4014 - val_acc: 0.8189\n",
      "Epoch 29/50\n",
      " - 1s - loss: 0.3858 - acc: 0.8330 - val_loss: 0.4014 - val_acc: 0.8189\n",
      "Epoch 30/50\n",
      " - 1s - loss: 0.3787 - acc: 0.8390 - val_loss: 0.4013 - val_acc: 0.8200\n",
      "Epoch 31/50\n",
      " - 1s - loss: 0.3841 - acc: 0.8380 - val_loss: 0.4014 - val_acc: 0.8189\n",
      "Epoch 32/50\n",
      " - 1s - loss: 0.3799 - acc: 0.8340 - val_loss: 0.4014 - val_acc: 0.8200\n",
      "Epoch 33/50\n",
      " - 1s - loss: 0.3871 - acc: 0.8360 - val_loss: 0.4014 - val_acc: 0.8200\n",
      "Epoch 34/50\n",
      " - 1s - loss: 0.3812 - acc: 0.8380 - val_loss: 0.4015 - val_acc: 0.8200\n",
      "Epoch 35/50\n",
      " - 1s - loss: 0.3911 - acc: 0.8300 - val_loss: 0.4015 - val_acc: 0.8189\n",
      "Epoch 36/50\n",
      " - 1s - loss: 0.3813 - acc: 0.8350 - val_loss: 0.4014 - val_acc: 0.8200\n",
      "Epoch 37/50\n",
      " - 1s - loss: 0.3729 - acc: 0.8370 - val_loss: 0.4015 - val_acc: 0.8200\n",
      "Epoch 38/50\n",
      " - 1s - loss: 0.3780 - acc: 0.8340 - val_loss: 0.4014 - val_acc: 0.8200\n",
      "Epoch 39/50\n",
      " - 1s - loss: 0.3835 - acc: 0.8400 - val_loss: 0.4014 - val_acc: 0.8200\n",
      "Epoch 40/50\n",
      " - 1s - loss: 0.3865 - acc: 0.8380 - val_loss: 0.4015 - val_acc: 0.8200\n",
      "Epoch 41/50\n",
      " - 1s - loss: 0.3822 - acc: 0.8360 - val_loss: 0.4015 - val_acc: 0.8189\n",
      "Epoch 42/50\n",
      " - 1s - loss: 0.3770 - acc: 0.8330 - val_loss: 0.4014 - val_acc: 0.8200\n",
      "Epoch 43/50\n",
      " - 1s - loss: 0.3829 - acc: 0.8340 - val_loss: 0.4013 - val_acc: 0.8200\n",
      "Epoch 44/50\n",
      " - 1s - loss: 0.3871 - acc: 0.8380 - val_loss: 0.4013 - val_acc: 0.8200\n",
      "Epoch 45/50\n",
      " - 1s - loss: 0.3894 - acc: 0.8330 - val_loss: 0.4014 - val_acc: 0.8200\n",
      "Epoch 46/50\n",
      " - 1s - loss: 0.3836 - acc: 0.8410 - val_loss: 0.4014 - val_acc: 0.8189\n",
      "Epoch 47/50\n",
      " - 1s - loss: 0.3846 - acc: 0.8410 - val_loss: 0.4013 - val_acc: 0.8200\n",
      "Epoch 48/50\n",
      " - 1s - loss: 0.3758 - acc: 0.8390 - val_loss: 0.4013 - val_acc: 0.8200\n",
      "Epoch 49/50\n",
      " - 1s - loss: 0.3844 - acc: 0.8270 - val_loss: 0.4014 - val_acc: 0.8200\n",
      "Epoch 50/50\n",
      " - 1s - loss: 0.3945 - acc: 0.8380 - val_loss: 0.4013 - val_acc: 0.8200\n"
     ]
    }
   ],
   "source": [
    "history_2c2m = model_2c2m.fit(x_tr, y_tr, validation_data = (x_val, y_val) ,epochs = epochs, verbose=2, callbacks = [reduce_lr], batch_size = batch_size)"
   ]
  },
  {
   "cell_type": "code",
   "execution_count": 12,
   "metadata": {},
   "outputs": [
    {
     "name": "stdout",
     "output_type": "stream",
     "text": [
      "Baseline Error: 13.00%\n"
     ]
    },
    {
     "data": {
      "image/png": "[encoded data removed]",
      "text/plain": [
       "<Figure size 432x288 with 1 Axes>"
      ]
     },
     "metadata": {
      "needs_background": "light"
     },
     "output_type": "display_data"
    },
    {
     "data": {
      "image/png": "[encoded data removed]",
      "text/plain": [
       "<Figure size 432x288 with 1 Axes>"
      ]
     },
     "metadata": {
      "needs_background": "light"
     },
     "output_type": "display_data"
    },
    {
     "data": {
      "image/png": "[encoded data removed]",
      "text/plain": [
       "<Figure size 432x288 with 1 Axes>"
      ]
     },
     "metadata": {
      "needs_background": "light"
     },
     "output_type": "display_data"
    }
   ],
   "source": [
    "scores = model_2c2m.evaluate(x_te, y_te, verbose=0)\n",
    "print(\"Baseline Error: %.2f%%\" % (100-scores[1]*100))\n",
    "\n",
    "plt.plot(history_2c2m.history['acc'])\n",
    "plt.plot(history_2c2m.history['val_acc'])\n",
    "plt.title('model accuracy')\n",
    "plt.ylabel('accuracy')\n",
    "plt.xlabel('epoch')\n",
    "plt.legend(['train', 'test'], loc='upper left')\n",
    "plt.show()\n",
    "\n",
    "# summarize history for loss\n",
    "plt.plot(history_2c2m.history['loss'])\n",
    "plt.plot(history_2c2m.history['val_loss'])\n",
    "plt.title('model loss')\n",
    "plt.ylabel('loss')\n",
    "plt.xlabel('epoch')\n",
    "plt.legend(['train', 'test'], loc='upper left')\n",
    "plt.show()\n",
    "\n",
    "from sklearn.metrics import roc_curve\n",
    "\n",
    "y_pred_keras = model_2c2m.predict(x_te).ravel()\n",
    "fpr_keras, tpr_keras, thresholds_keras = roc_curve(y_te, y_pred_keras)\n",
    "\n",
    "from sklearn.metrics import auc\n",
    "auc_keras = auc(fpr_keras, tpr_keras)\n",
    "\n",
    "plt.figure(1)\n",
    "plt.plot([0, 1], [0, 1], 'k--')\n",
    "plt.plot(fpr_keras, tpr_keras, label='Keras (area = {:.3f})'.format(auc_keras))\n",
    "plt.xlabel('False positive rate')\n",
    "plt.ylabel('True positive rate')\n",
    "plt.title('ROC curve')\n",
    "plt.legend(loc='best')\n",
    "plt.show()"
   ]
  },
  {
   "cell_type": "markdown",
   "metadata": {
    "colab_type": "text",
    "id": "2V2g1EiUcLWj"
   },
   "source": [
    "# Conversion to Tensorflow File\n",
    "\n",
    "We need a .pb file in order to run convert our models using the DNNDK (Deep Neural Network Development Kit)\n",
    "\n",
    "We create a frozen graph and use this to get our model.pb file\n"
   ]
  },
  {
   "cell_type": "code",
   "execution_count": 13,
   "metadata": {},
   "outputs": [],
   "source": [
    "def freeze_session(session, keep_var_names=None, output_names=None, clear_devices=True):\n",
    "    \"\"\"\n",
    "    Freezes the state of a session into a pruned computation graph.\n",
    "\n",
    "    Creates a new computation graph where variable nodes are replaced by\n",
    "    constants taking their current value in the session. The new graph will be\n",
    "    pruned so subgraphs that are not necessary to compute the requested\n",
    "    outputs are removed.\n",
    "    @param session The TensorFlow session to be frozen.\n",
    "    @param keep_var_names A list of variable names that should not be frozen,\n",
    "                          or None to freeze all the variables in the graph.\n",
    "    @param output_names Names of the relevant graph outputs.\n",
    "    @param clear_devices Remove the device directives from the graph for better portability.\n",
    "    @return The frozen graph definition.\n",
    "    \"\"\"\n",
    "    graph = session.graph\n",
    "    with graph.as_default():\n",
    "        freeze_var_names = list(set(v.op.name for v in tf.global_variables()).difference(keep_var_names or []))\n",
    "        output_names = output_names or []\n",
    "        output_names += [v.op.name for v in tf.global_variables()]\n",
    "        input_graph_def = graph.as_graph_def()\n",
    "        if clear_devices:\n",
    "            for node in input_graph_def.node:\n",
    "                node.device = \"\"\n",
    "        frozen_graph = tf.graph_util.convert_variables_to_constants(\n",
    "            session, input_graph_def, output_names, freeze_var_names)\n",
    "        return frozen_graph"
   ]
  },
  {
   "cell_type": "code",
   "execution_count": 14,
   "metadata": {},
   "outputs": [],
   "source": [
    "from keras import backend as K\n",
    "import tensorflow as tf"
   ]
  },
  {
   "cell_type": "code",
   "execution_count": 15,
   "metadata": {},
   "outputs": [
    {
     "name": "stdout",
     "output_type": "stream",
     "text": [
      "INFO:tensorflow:Froze 151 variables.\n",
      "INFO:tensorflow:Converted 151 variables to const ops.\n"
     ]
    }
   ],
   "source": [
    "frozen_graph = freeze_session(K.get_session(),\n",
    "                              output_names=[out.op.name for out in model_2c2m.outputs])"
   ]
  },
  {
   "cell_type": "code",
   "execution_count": 16,
   "metadata": {},
   "outputs": [
    {
     "data": {
      "text/plain": [
       "'Tensorflow_model/my_model.pb'"
      ]
     },
     "execution_count": 16,
     "metadata": {},
     "output_type": "execute_result"
    }
   ],
   "source": [
    "tf.train.write_graph(frozen_graph, \"Tensorflow_model\", \"my_model.pb\", as_text=False)"
   ]
  },
  {
   "cell_type": "code",
   "execution_count": null,
   "metadata": {},
   "outputs": [],
   "source": []
  },
  {
   "cell_type": "code",
   "execution_count": null,
   "metadata": {},
   "outputs": [],
   "source": []
  },
  {
   "cell_type": "code",
   "execution_count": null,
   "metadata": {},
   "outputs": [],
   "source": []
  },
  {
   "cell_type": "code",
   "execution_count": null,
   "metadata": {},
   "outputs": [],
   "source": []
  }
 ],
 "metadata": {
  "colab": {
   "collapsed_sections": [],
   "name": "JZ0W_vs_ZvvHbb (5).ipynb",
   "provenance": [],
   "version": "0.3.2"
  },
  "kernelspec": {
   "display_name": "Python 2",
   "language": "python",
   "name": "python2"
  },
  "language_info": {
   "codemirror_mode": {
    "name": "ipython",
    "version": 2
   },
   "file_extension": ".py",
   "mimetype": "text/x-python",
   "name": "python",
   "nbconvert_exporter": "python",
   "pygments_lexer": "ipython2",
   "version": "2.7.16"
  }
 },
 "nbformat": 4,
 "nbformat_minor": 1
}
