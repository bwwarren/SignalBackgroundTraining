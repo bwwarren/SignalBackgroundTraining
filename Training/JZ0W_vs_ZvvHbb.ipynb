{
  "nbformat": 4,
  "nbformat_minor": 0,
  "metadata": {
    "colab": {
      "name": "JZ0W_vs_ZvvHbb (5).ipynb",
      "version": "0.3.2",
      "provenance": [],
      "collapsed_sections": []
    },
    "kernelspec": {
      "display_name": "Python 2",
      "language": "python",
      "name": "python2"
    }
  },
  "cells": [
    {
      "metadata": {
        "colab_type": "code",
        "id": "l9QAXctTKizH",
        "colab": {}
      },
      "cell_type": "code",
      "source": [
        "import numpy as np\n",
        "import pandas as pd \n",
        "import h5py\n",
        "\n",
        "import matplotlib.pyplot as plt\n",
        "from matplotlib import colors\n",
        "from matplotlib.colors import Normalize, LogNorm\n",
        "\n",
        "from sklearn.utils import shuffle\n",
        "\n",
        "from keras.models import Sequential, load_model\n",
        "from keras.layers import Dense, Dropout, Flatten, Activation\n",
        "from keras.layers import Conv2D, MaxPooling2D, BatchNormalization\n",
        "from keras.optimizers import Adam,SGD,Adagrad,Adadelta,RMSprop\n",
        "from keras.preprocessing.image import ImageDataGenerator\n",
        "from keras.callbacks import ReduceLROnPlateau, LearningRateScheduler\n",
        "from keras.utils import to_categorical\n",
        "\n",
        "from sklearn.model_selection import train_test_split\n",
        "\n",
        "np.random.seed(7)\n",
        "\n",
        "def get_data(filename):\n",
        "    \"\"\"\n",
        "        This just takes the data and puts it in the shape and format that I would like to deal with.\n",
        "        The data is converted to an hdf5 file using kratsg's gML file on github: https://github.com/kratsg/gML.git\n",
        "    \"\"\"\n",
        "    data = h5py.File(filename, 'r')\n",
        "    # 28 eta rows and 32 phi columns\n",
        "    gTowerEt = data['gTowerEt'][:].reshape(-1, 28, 32)\n",
        "    return (gTowerEt)"
      ],
      "execution_count": 0,
      "outputs": []
    },
    {
      "metadata": {
        "colab_type": "code",
        "id": "2yxWSNAYKizN",
        "colab": {}
      },
      "cell_type": "code",
      "source": [
        "gTowerEt_background1 = get_data(\"user._010556.JZ0W.hdf5\")\n",
        "gTowerEt_background2 = get_data(\"user._010590.JZ0W.hdf5\")\n",
        "gTowerEt_background3 = get_data(\"user._010592.JZ0W.hdf5\")\n",
        "gTowerEt_background4 = get_data(\"user._010594.JZ0W1.hdf5\")\n",
        "gTowerEt_background = np.concatenate([gTowerEt_background1\n",
        "                                  ,gTowerEt_background2\n",
        "                                  ,gTowerEt_background3\n",
        "                                  ,gTowerEt_background4])\n",
        "\n"
      ],
      "execution_count": 0,
      "outputs": []
    },
    {
      "metadata": {
        "colab_type": "code",
        "id": "ORcO6mtxKizP",
        "colab": {}
      },
      "cell_type": "code",
      "source": [
        "gTowerEt_signal1 = get_data(\"user._000118.ZvvHbb.hdf5\")\n",
        "gTowerEt_signal2 = get_data(\"user._000123.ZvvHbb.hdf5\")\n",
        "gTowerEt_signal3 = get_data(\"user._000130.ZvvHbb.hdf5\")\n",
        "gTowerEt_signal4 = get_data(\"user._000139.ZvvHbb.hdf5\")\n",
        "gTowerEt_signal = np.concatenate([gTowerEt_signal1\n",
        "                                 ,gTowerEt_signal2\n",
        "                                 ,gTowerEt_signal3\n",
        "                                 ,gTowerEt_signal4])"
      ],
      "execution_count": 0,
      "outputs": []
    },
    {
      "metadata": {
        "colab_type": "text",
        "id": "XX4ZIjobKizR"
      },
      "cell_type": "markdown",
      "source": [
        "Now I need to see what my data looks like. \n",
        "\n",
        "The background (JZ0W) has more jets that should show up on the images.\n",
        "So there should be more dots coming through on the images.\n",
        "The signal (ZvvHbb) should have 1 or 2 jets that are visable.\n",
        "\n",
        "I have also normalised the background and signal images, respectively. This allows me to see more clearly what the energies of these jets are.\n"
      ]
    },
    {
      "metadata": {
        "colab_type": "code",
        "id": "YFTgPxZdKizS",
        "outputId": "4f9551d7-1f0b-48ce-8f4a-5339c607371d",
        "colab": {
          "base_uri": "https://localhost:8080/",
          "height": 571
        }
      },
      "cell_type": "code",
      "source": [
        "f, axarr = plt.subplots(nrows=3, ncols=3, figsize=(9, 9))\n",
        "f.suptitle(\"$JZ0W$ images\", fontsize = 18)\n",
        "print gTowerEt_background.shape\n",
        "    \n",
        "axarr[0,0].set_ylabel(\"$\\eta$ \", fontsize=16).set_rotation(0)\n",
        "axarr[0,1].set_ylabel(\"$\\eta$ \", fontsize=16).set_rotation(0)\n",
        "axarr[0,2].set_ylabel(\"$\\eta$ \", fontsize=16).set_rotation(0)\n",
        "\n",
        "axarr[1,0].set_ylabel(\"$\\eta$ \", fontsize=16).set_rotation(0)\n",
        "axarr[1,1].set_ylabel(\"$\\eta$ \", fontsize=16).set_rotation(0)\n",
        "axarr[1,2].set_ylabel(\"$\\eta$ \", fontsize=16).set_rotation(0)\n",
        "\n",
        "axarr[2,0].set_ylabel(\"$\\eta$ \", fontsize=16).set_rotation(0)\n",
        "axarr[2,1].set_ylabel(\"$\\eta$ \", fontsize=16).set_rotation(0)\n",
        "axarr[2,2].set_ylabel(\"$\\eta$ \", fontsize=16).set_rotation(0)\n",
        "\n",
        "\n",
        "axarr[0,0].set_xlabel(\"$\\phi$\", fontsize=16)\n",
        "axarr[0,1].set_xlabel(\"$\\phi$\", fontsize=16)\n",
        "axarr[0,2].set_xlabel(\"$\\phi$\", fontsize=16)\n",
        "\n",
        "axarr[1,0].set_xlabel(\"$\\phi$\", fontsize=16)\n",
        "axarr[1,1].set_xlabel(\"$\\phi$\", fontsize=16)\n",
        "axarr[1,2].set_xlabel(\"$\\phi$\", fontsize=16)\n",
        "\n",
        "axarr[2,0].set_xlabel(\"$\\phi$\", fontsize=16)\n",
        "axarr[2,1].set_xlabel(\"$\\phi$\", fontsize=16)\n",
        "axarr[2,2].set_xlabel(\"$\\phi$\", fontsize=16)\n",
        "\n",
        "\n",
        "vmin = min(gTowerEt_background[0].min(), \n",
        "           gTowerEt_background[1].min(), \n",
        "           gTowerEt_background[2].min(), \n",
        "           gTowerEt_background[3].min(),\n",
        "           gTowerEt_background[4].min(),\n",
        "           gTowerEt_background[5].min(),\n",
        "           gTowerEt_background[6].min(),\n",
        "           gTowerEt_background[7].min(),\n",
        "           gTowerEt_background[8].min(),\n",
        "           )\n",
        "\n",
        "vmax = max(gTowerEt_background[0].max(), \n",
        "           gTowerEt_background[1].max(), \n",
        "           gTowerEt_background[2].max(), \n",
        "           gTowerEt_background[3].max(),\n",
        "           gTowerEt_background[4].max(), \n",
        "           gTowerEt_background[5].max(), \n",
        "           gTowerEt_background[6].max(), \n",
        "           gTowerEt_background[7].max(),\n",
        "           gTowerEt_background[8].max()\n",
        "          )\n",
        "\n",
        "g0 = axarr[0,0].imshow(gTowerEt_background[0])\n",
        "g1 = axarr[0,1].imshow(gTowerEt_background[1])\n",
        "g2 = axarr[0,2].imshow(gTowerEt_background[2])\n",
        "\n",
        "g3 = axarr[1,0].imshow(gTowerEt_background[3])\n",
        "g4 = axarr[1,1].imshow(gTowerEt_background[4])\n",
        "g5 = axarr[1,2].imshow(gTowerEt_background[5])\n",
        "\n",
        "g6 = axarr[2,0].imshow(gTowerEt_background[6])\n",
        "g7 = axarr[2,1].imshow(gTowerEt_background[7])\n",
        "g8 = axarr[2,2].imshow(gTowerEt_background[8])\n",
        "\n",
        "norm = colors.Normalize(vmin=vmin, vmax=vmax)\n",
        "\n",
        "g0.set_norm(norm)\n",
        "g1.set_norm(norm)\n",
        "g2.set_norm(norm)\n",
        "g3.set_norm(norm)\n",
        "g4.set_norm(norm)\n",
        "g5.set_norm(norm)\n",
        "g6.set_norm(norm)\n",
        "g7.set_norm(norm)\n",
        "g8.set_norm(norm)\n",
        "\n",
        "f.colorbar(g0, ax = axarr, orientation='horizontal')\n",
        "\n",
        "plt.show()"
      ],
      "execution_count": 13,
      "outputs": [
        {
          "output_type": "stream",
          "text": [
            "(1000, 28, 32)\n"
          ],
          "name": "stdout"
        },
        {
          "output_type": "display_data",
          "data": {
            "image/png": "[encoded data removed]",
            "text/plain": [
              "<Figure size 648x648 with 10 Axes>"
            ]
          },
          "metadata": {
            "tags": []
          }
        }
      ]
    },
    {
      "metadata": {
        "colab_type": "code",
        "id": "wCwqtTKCKizV",
        "outputId": "84160ed0-09c0-4d12-b7d6-f87170d975c2",
        "colab": {
          "base_uri": "https://localhost:8080/",
          "height": 571
        }
      },
      "cell_type": "code",
      "source": [
        "g, axarr = plt.subplots(nrows=3, ncols=3, figsize=(9, 9))\n",
        "g.suptitle(\"$ZvvHbb$ images\", fontsize = 18)\n",
        "print gTowerEt_signal.shape\n",
        "    \n",
        "axarr[0,0].set_ylabel(\"$\\eta$ \", fontsize=16).set_rotation(0)\n",
        "axarr[0,1].set_ylabel(\"$\\eta$ \", fontsize=16).set_rotation(0)\n",
        "axarr[0,2].set_ylabel(\"$\\eta$ \", fontsize=16).set_rotation(0)\n",
        "\n",
        "axarr[1,0].set_ylabel(\"$\\eta$ \", fontsize=16).set_rotation(0)\n",
        "axarr[1,1].set_ylabel(\"$\\eta$ \", fontsize=16).set_rotation(0)\n",
        "axarr[1,2].set_ylabel(\"$\\eta$ \", fontsize=16).set_rotation(0)\n",
        "\n",
        "axarr[2,0].set_ylabel(\"$\\eta$ \", fontsize=16).set_rotation(0)\n",
        "axarr[2,1].set_ylabel(\"$\\eta$ \", fontsize=16).set_rotation(0)\n",
        "axarr[2,2].set_ylabel(\"$\\eta$ \", fontsize=16).set_rotation(0)\n",
        "\n",
        "\n",
        "axarr[0,0].set_xlabel(\"$\\phi$\", fontsize=16)\n",
        "axarr[0,1].set_xlabel(\"$\\phi$\", fontsize=16)\n",
        "axarr[0,2].set_xlabel(\"$\\phi$\", fontsize=16)\n",
        "\n",
        "axarr[1,0].set_xlabel(\"$\\phi$\", fontsize=16)\n",
        "axarr[1,1].set_xlabel(\"$\\phi$\", fontsize=16)\n",
        "axarr[1,2].set_xlabel(\"$\\phi$\", fontsize=16)\n",
        "\n",
        "axarr[2,0].set_xlabel(\"$\\phi$\", fontsize=16)\n",
        "axarr[2,1].set_xlabel(\"$\\phi$\", fontsize=16)\n",
        "axarr[2,2].set_xlabel(\"$\\phi$\", fontsize=16)\n",
        "\n",
        "\n",
        "vmin = min(gTowerEt_signal[0].min(), \n",
        "           gTowerEt_signal[1].min(), \n",
        "           gTowerEt_signal[2].min(), \n",
        "           gTowerEt_signal[3].min(),\n",
        "           gTowerEt_signal[4].min(),\n",
        "           gTowerEt_signal[5].min(),\n",
        "           gTowerEt_signal[6].min(),\n",
        "           gTowerEt_signal[7].min(),\n",
        "           gTowerEt_signal[8].min(),\n",
        "           )\n",
        "\n",
        "vmax = max(gTowerEt_signal[0].max(), \n",
        "           gTowerEt_signal[1].max(), \n",
        "           gTowerEt_signal[2].max(), \n",
        "           gTowerEt_signal[3].max(),\n",
        "           gTowerEt_signal[4].max(), \n",
        "           gTowerEt_signal[5].max(), \n",
        "           gTowerEt_signal[6].max(), \n",
        "           gTowerEt_signal[7].max(),\n",
        "           gTowerEt_signal[8].max()\n",
        "          )\n",
        "\n",
        "g0 = axarr[0,0].imshow(gTowerEt_signal[0])\n",
        "g1 = axarr[0,1].imshow(gTowerEt_signal[1])\n",
        "g2 = axarr[0,2].imshow(gTowerEt_signal[2])\n",
        "\n",
        "g3 = axarr[1,0].imshow(gTowerEt_signal[3])\n",
        "g4 = axarr[1,1].imshow(gTowerEt_signal[4])\n",
        "g5 = axarr[1,2].imshow(gTowerEt_signal[5])\n",
        "\n",
        "g6 = axarr[2,0].imshow(gTowerEt_signal[6])\n",
        "g7 = axarr[2,1].imshow(gTowerEt_signal[7])\n",
        "g8 = axarr[2,2].imshow(gTowerEt_signal[8])\n",
        "\n",
        "norm = colors.Normalize(vmin=vmin, vmax=vmax)\n",
        "\n",
        "g0.set_norm(norm)\n",
        "g1.set_norm(norm)\n",
        "g2.set_norm(norm)\n",
        "g3.set_norm(norm)\n",
        "g4.set_norm(norm)\n",
        "g5.set_norm(norm)\n",
        "g6.set_norm(norm)\n",
        "g7.set_norm(norm)\n",
        "g8.set_norm(norm)\n",
        "\n",
        "g.colorbar(g0, ax = axarr, orientation='horizontal')\n",
        "\n",
        "plt.show()"
      ],
      "execution_count": 15,
      "outputs": [
        {
          "output_type": "stream",
          "text": [
            "(1000, 28, 32)\n"
          ],
          "name": "stdout"
        },
        {
          "output_type": "display_data",
          "data": {
            "image/png": "[encoded data removed]",
            "text/plain": [
              "<Figure size 648x648 with 10 Axes>"
            ]
          },
          "metadata": {
            "tags": []
          }
        }
      ]
    },
    {
      "metadata": {
        "colab_type": "text",
        "id": "Yc_m4J-YKizY"
      },
      "cell_type": "markdown",
      "source": [
        "These look about right. Except for the blue lines from about 27 to 28 on the $\\eta$ rows. So I still need to clean that up i.e. take it out\n",
        "\n",
        "I also need to create labels and shuffle this data. But first I want to convert the data to a pandas array to straighten it out."
      ]
    },
    {
      "metadata": {
        "colab_type": "code",
        "id": "ioiwJZ4wKizY",
        "outputId": "cc89ec7e-63c8-4944-a5b9-03b817af03b8",
        "colab": {
          "base_uri": "https://localhost:8080/",
          "height": 372
        }
      },
      "cell_type": "code",
      "source": [
        "def flatten_data(data, second_dim):\n",
        "    \"\"\"\n",
        "        Flatten data from 3 Dimensions to 2 Dimensions\n",
        "        data: 3D input\n",
        "        second_dim: what we want to flatten the input into \n",
        "    \"\"\"\n",
        "    flat_array = data.reshape(-1, second_dim)\n",
        "    return flat_array\n",
        "\n",
        "#get the signal flattened\n",
        "gTower_signal_flat = flatten_data(gTowerEt_signal, 28*32)\n",
        "gTower_background_flat = flatten_data(gTowerEt_background, 28*32)\n",
        "\n",
        "# check what the data looks like now\n",
        "print \"shapes:\\n signal:{}\\n background {}\".format(gTower_signal_flat.shape, gTower_background_flat.shape)\n",
        "\n",
        "# convert to a pandas data frame\n",
        "df_signal_flat = pd.DataFrame(gTower_signal_flat)\n",
        "df_background_flat = pd.DataFrame(gTower_background_flat)\n",
        "\n",
        "#check what the data looks like\n",
        "print \"Row 832 is the last row in signal with all zeros: sum(832) = {}\".format(df_signal_flat[832].sum())\n",
        "print \"Row 831 is the first row in sgnal with not all zeros: sum(831) = {}\".format(df_signal_flat[831].sum())\n",
        "\n",
        "#drop zero columns\n",
        "df_signal_flat.drop(df_signal_flat.columns[832:], axis=1, inplace=True)\n",
        "\n",
        "print \"Row 832 is the last row in background with all zeros: sum(832) = {}\".format(df_background_flat[832].sum())\n",
        "print \"Row 831 is the first row in background with not all zeros: sum(831) = {}\".format(df_background_flat[831].sum())\n",
        "\n",
        "#drop zero columns\n",
        "df_background_flat.drop(df_background_flat.columns[832:], axis=1, inplace=True)\n",
        "\n",
        "df_signal_flat.head()"
      ],
      "execution_count": 16,
      "outputs": [
        {
          "output_type": "stream",
          "text": [
            "shapes:\n",
            " signal:(1000, 896)\n",
            " background (1000, 896)\n",
            "Row 832 is the last row in signal with all zeros: sum(832) = 0.0\n",
            "Row 831 is the first row in sgnal with not all zeros: sum(831) = 568013.125\n",
            "Row 832 is the last row in background with all zeros: sum(832) = 0.0\n",
            "Row 831 is the first row in background with not all zeros: sum(831) = 499746.78125\n"
          ],
          "name": "stdout"
        },
        {
          "output_type": "execute_result",
          "data": {
            "text/html": [
              "<div>\n",
              "<style scoped>\n",
              "    .dataframe tbody tr th:only-of-type {\n",
              "        vertical-align: middle;\n",
              "    }\n",
              "\n",
              "    .dataframe tbody tr th {\n",
              "        vertical-align: top;\n",
              "    }\n",
              "\n",
              "    .dataframe thead th {\n",
              "        text-align: right;\n",
              "    }\n",
              "</style>\n",
              "<table border=\"1\" class=\"dataframe\">\n",
              "  <thead>\n",
              "    <tr style=\"text-align: right;\">\n",
              "      <th></th>\n",
              "      <th>0</th>\n",
              "      <th>1</th>\n",
              "      <th>2</th>\n",
              "      <th>3</th>\n",
              "      <th>4</th>\n",
              "      <th>5</th>\n",
              "      <th>6</th>\n",
              "      <th>7</th>\n",
              "      <th>8</th>\n",
              "      <th>9</th>\n",
              "      <th>...</th>\n",
              "      <th>822</th>\n",
              "      <th>823</th>\n",
              "      <th>824</th>\n",
              "      <th>825</th>\n",
              "      <th>826</th>\n",
              "      <th>827</th>\n",
              "      <th>828</th>\n",
              "      <th>829</th>\n",
              "      <th>830</th>\n",
              "      <th>831</th>\n",
              "    </tr>\n",
              "  </thead>\n",
              "  <tbody>\n",
              "    <tr>\n",
              "      <th>0</th>\n",
              "      <td>1948.007568</td>\n",
              "      <td>1229.803589</td>\n",
              "      <td>1362.211670</td>\n",
              "      <td>1773.021362</td>\n",
              "      <td>1805.363159</td>\n",
              "      <td>937.377747</td>\n",
              "      <td>770.113647</td>\n",
              "      <td>1283.386475</td>\n",
              "      <td>0.000000</td>\n",
              "      <td>463.752502</td>\n",
              "      <td>...</td>\n",
              "      <td>1453.622314</td>\n",
              "      <td>1195.590210</td>\n",
              "      <td>991.512695</td>\n",
              "      <td>595.912720</td>\n",
              "      <td>180.354721</td>\n",
              "      <td>337.931519</td>\n",
              "      <td>828.340332</td>\n",
              "      <td>862.571777</td>\n",
              "      <td>830.117065</td>\n",
              "      <td>797.693115</td>\n",
              "    </tr>\n",
              "    <tr>\n",
              "      <th>1</th>\n",
              "      <td>504.729767</td>\n",
              "      <td>1053.224731</td>\n",
              "      <td>1948.789429</td>\n",
              "      <td>472.535736</td>\n",
              "      <td>431.983521</td>\n",
              "      <td>1618.163696</td>\n",
              "      <td>1084.297852</td>\n",
              "      <td>522.354248</td>\n",
              "      <td>1145.151978</td>\n",
              "      <td>884.213806</td>\n",
              "      <td>...</td>\n",
              "      <td>674.066772</td>\n",
              "      <td>1018.593689</td>\n",
              "      <td>2172.189453</td>\n",
              "      <td>1589.266357</td>\n",
              "      <td>1166.685791</td>\n",
              "      <td>845.343872</td>\n",
              "      <td>433.920105</td>\n",
              "      <td>595.932251</td>\n",
              "      <td>2259.294922</td>\n",
              "      <td>1107.355469</td>\n",
              "    </tr>\n",
              "    <tr>\n",
              "      <th>2</th>\n",
              "      <td>949.828003</td>\n",
              "      <td>716.895020</td>\n",
              "      <td>123.326370</td>\n",
              "      <td>945.230530</td>\n",
              "      <td>718.803589</td>\n",
              "      <td>65.158417</td>\n",
              "      <td>812.612000</td>\n",
              "      <td>702.350159</td>\n",
              "      <td>560.865112</td>\n",
              "      <td>1201.162842</td>\n",
              "      <td>...</td>\n",
              "      <td>394.760132</td>\n",
              "      <td>0.000000</td>\n",
              "      <td>322.434998</td>\n",
              "      <td>591.893433</td>\n",
              "      <td>846.602661</td>\n",
              "      <td>-170.080933</td>\n",
              "      <td>975.725342</td>\n",
              "      <td>134.924530</td>\n",
              "      <td>3593.008057</td>\n",
              "      <td>1467.026855</td>\n",
              "    </tr>\n",
              "    <tr>\n",
              "      <th>3</th>\n",
              "      <td>226.033798</td>\n",
              "      <td>-61.546230</td>\n",
              "      <td>538.230469</td>\n",
              "      <td>27.106960</td>\n",
              "      <td>0.000000</td>\n",
              "      <td>177.788284</td>\n",
              "      <td>159.796814</td>\n",
              "      <td>568.038025</td>\n",
              "      <td>154.135437</td>\n",
              "      <td>0.000000</td>\n",
              "      <td>...</td>\n",
              "      <td>114.888306</td>\n",
              "      <td>78.900848</td>\n",
              "      <td>1171.467407</td>\n",
              "      <td>0.719444</td>\n",
              "      <td>492.379333</td>\n",
              "      <td>1436.708984</td>\n",
              "      <td>138.477692</td>\n",
              "      <td>80.839256</td>\n",
              "      <td>73.998993</td>\n",
              "      <td>-30.185978</td>\n",
              "    </tr>\n",
              "    <tr>\n",
              "      <th>4</th>\n",
              "      <td>-151.946899</td>\n",
              "      <td>429.102966</td>\n",
              "      <td>270.738861</td>\n",
              "      <td>205.938675</td>\n",
              "      <td>233.599579</td>\n",
              "      <td>532.302063</td>\n",
              "      <td>735.905396</td>\n",
              "      <td>104.528160</td>\n",
              "      <td>657.799927</td>\n",
              "      <td>-145.565964</td>\n",
              "      <td>...</td>\n",
              "      <td>344.546844</td>\n",
              "      <td>78.911766</td>\n",
              "      <td>1261.254395</td>\n",
              "      <td>620.452209</td>\n",
              "      <td>251.628922</td>\n",
              "      <td>482.965149</td>\n",
              "      <td>1691.376953</td>\n",
              "      <td>29.792877</td>\n",
              "      <td>784.313354</td>\n",
              "      <td>5042.091797</td>\n",
              "    </tr>\n",
              "  </tbody>\n",
              "</table>\n",
              "<p>5 rows × 832 columns</p>\n",
              "</div>"
            ],
            "text/plain": [
              "           0            1            2            3            4    \\\n",
              "0  1948.007568  1229.803589  1362.211670  1773.021362  1805.363159   \n",
              "1   504.729767  1053.224731  1948.789429   472.535736   431.983521   \n",
              "2   949.828003   716.895020   123.326370   945.230530   718.803589   \n",
              "3   226.033798   -61.546230   538.230469    27.106960     0.000000   \n",
              "4  -151.946899   429.102966   270.738861   205.938675   233.599579   \n",
              "\n",
              "           5            6            7            8            9    \\\n",
              "0   937.377747   770.113647  1283.386475     0.000000   463.752502   \n",
              "1  1618.163696  1084.297852   522.354248  1145.151978   884.213806   \n",
              "2    65.158417   812.612000   702.350159   560.865112  1201.162842   \n",
              "3   177.788284   159.796814   568.038025   154.135437     0.000000   \n",
              "4   532.302063   735.905396   104.528160   657.799927  -145.565964   \n",
              "\n",
              "      ...               822          823          824          825  \\\n",
              "0     ...       1453.622314  1195.590210   991.512695   595.912720   \n",
              "1     ...        674.066772  1018.593689  2172.189453  1589.266357   \n",
              "2     ...        394.760132     0.000000   322.434998   591.893433   \n",
              "3     ...        114.888306    78.900848  1171.467407     0.719444   \n",
              "4     ...        344.546844    78.911766  1261.254395   620.452209   \n",
              "\n",
              "           826          827          828         829          830          831  \n",
              "0   180.354721   337.931519   828.340332  862.571777   830.117065   797.693115  \n",
              "1  1166.685791   845.343872   433.920105  595.932251  2259.294922  1107.355469  \n",
              "2   846.602661  -170.080933   975.725342  134.924530  3593.008057  1467.026855  \n",
              "3   492.379333  1436.708984   138.477692   80.839256    73.998993   -30.185978  \n",
              "4   251.628922   482.965149  1691.376953   29.792877   784.313354  5042.091797  \n",
              "\n",
              "[5 rows x 832 columns]"
            ]
          },
          "metadata": {
            "tags": []
          },
          "execution_count": 16
        }
      ]
    },
    {
      "metadata": {
        "colab_type": "code",
        "id": "zPjghKopKizb",
        "outputId": "cf9c080e-d754-4b0b-b078-f4aeb3035bea",
        "colab": {
          "base_uri": "https://localhost:8080/",
          "height": 253
        }
      },
      "cell_type": "code",
      "source": [
        "df_background_flat.head()"
      ],
      "execution_count": 17,
      "outputs": [
        {
          "output_type": "execute_result",
          "data": {
            "text/html": [
              "<div>\n",
              "<style scoped>\n",
              "    .dataframe tbody tr th:only-of-type {\n",
              "        vertical-align: middle;\n",
              "    }\n",
              "\n",
              "    .dataframe tbody tr th {\n",
              "        vertical-align: top;\n",
              "    }\n",
              "\n",
              "    .dataframe thead th {\n",
              "        text-align: right;\n",
              "    }\n",
              "</style>\n",
              "<table border=\"1\" class=\"dataframe\">\n",
              "  <thead>\n",
              "    <tr style=\"text-align: right;\">\n",
              "      <th></th>\n",
              "      <th>0</th>\n",
              "      <th>1</th>\n",
              "      <th>2</th>\n",
              "      <th>3</th>\n",
              "      <th>4</th>\n",
              "      <th>5</th>\n",
              "      <th>6</th>\n",
              "      <th>7</th>\n",
              "      <th>8</th>\n",
              "      <th>9</th>\n",
              "      <th>...</th>\n",
              "      <th>822</th>\n",
              "      <th>823</th>\n",
              "      <th>824</th>\n",
              "      <th>825</th>\n",
              "      <th>826</th>\n",
              "      <th>827</th>\n",
              "      <th>828</th>\n",
              "      <th>829</th>\n",
              "      <th>830</th>\n",
              "      <th>831</th>\n",
              "    </tr>\n",
              "  </thead>\n",
              "  <tbody>\n",
              "    <tr>\n",
              "      <th>0</th>\n",
              "      <td>102.223244</td>\n",
              "      <td>368.700684</td>\n",
              "      <td>137.223206</td>\n",
              "      <td>3186.571777</td>\n",
              "      <td>3.529137</td>\n",
              "      <td>0.000000</td>\n",
              "      <td>1580.153198</td>\n",
              "      <td>88.257584</td>\n",
              "      <td>241.882187</td>\n",
              "      <td>132.519989</td>\n",
              "      <td>...</td>\n",
              "      <td>-174.814178</td>\n",
              "      <td>1479.688599</td>\n",
              "      <td>442.842407</td>\n",
              "      <td>763.384705</td>\n",
              "      <td>183.145950</td>\n",
              "      <td>307.035736</td>\n",
              "      <td>380.927002</td>\n",
              "      <td>444.837280</td>\n",
              "      <td>524.020386</td>\n",
              "      <td>197.409546</td>\n",
              "    </tr>\n",
              "    <tr>\n",
              "      <th>1</th>\n",
              "      <td>1862.122681</td>\n",
              "      <td>725.858398</td>\n",
              "      <td>495.343079</td>\n",
              "      <td>522.689270</td>\n",
              "      <td>1037.605713</td>\n",
              "      <td>1459.342163</td>\n",
              "      <td>1467.959839</td>\n",
              "      <td>951.591431</td>\n",
              "      <td>1289.745483</td>\n",
              "      <td>0.000000</td>\n",
              "      <td>...</td>\n",
              "      <td>1474.365601</td>\n",
              "      <td>754.765991</td>\n",
              "      <td>804.412048</td>\n",
              "      <td>987.892090</td>\n",
              "      <td>949.158386</td>\n",
              "      <td>317.838837</td>\n",
              "      <td>1316.921509</td>\n",
              "      <td>711.112122</td>\n",
              "      <td>566.910278</td>\n",
              "      <td>1134.835327</td>\n",
              "    </tr>\n",
              "    <tr>\n",
              "      <th>2</th>\n",
              "      <td>1338.201538</td>\n",
              "      <td>63.295807</td>\n",
              "      <td>1250.506104</td>\n",
              "      <td>1.934196</td>\n",
              "      <td>105.690559</td>\n",
              "      <td>1010.898010</td>\n",
              "      <td>814.236450</td>\n",
              "      <td>68.646568</td>\n",
              "      <td>-44.988132</td>\n",
              "      <td>871.175598</td>\n",
              "      <td>...</td>\n",
              "      <td>128.142059</td>\n",
              "      <td>99.144165</td>\n",
              "      <td>91.923775</td>\n",
              "      <td>337.149536</td>\n",
              "      <td>-27.088104</td>\n",
              "      <td>296.295044</td>\n",
              "      <td>826.219788</td>\n",
              "      <td>259.561218</td>\n",
              "      <td>504.078888</td>\n",
              "      <td>118.668991</td>\n",
              "    </tr>\n",
              "    <tr>\n",
              "      <th>3</th>\n",
              "      <td>508.373199</td>\n",
              "      <td>357.868134</td>\n",
              "      <td>54.637264</td>\n",
              "      <td>761.106384</td>\n",
              "      <td>240.089447</td>\n",
              "      <td>100.703369</td>\n",
              "      <td>477.226807</td>\n",
              "      <td>444.954498</td>\n",
              "      <td>702.838623</td>\n",
              "      <td>109.055504</td>\n",
              "      <td>...</td>\n",
              "      <td>524.925659</td>\n",
              "      <td>1218.190186</td>\n",
              "      <td>0.000000</td>\n",
              "      <td>983.982910</td>\n",
              "      <td>704.678345</td>\n",
              "      <td>472.131653</td>\n",
              "      <td>111.450127</td>\n",
              "      <td>762.669006</td>\n",
              "      <td>20.642662</td>\n",
              "      <td>627.526917</td>\n",
              "    </tr>\n",
              "    <tr>\n",
              "      <th>4</th>\n",
              "      <td>1759.074219</td>\n",
              "      <td>1074.358521</td>\n",
              "      <td>51.794151</td>\n",
              "      <td>659.456604</td>\n",
              "      <td>-419.165039</td>\n",
              "      <td>619.112854</td>\n",
              "      <td>219.199036</td>\n",
              "      <td>487.793335</td>\n",
              "      <td>622.421021</td>\n",
              "      <td>32.543133</td>\n",
              "      <td>...</td>\n",
              "      <td>678.214233</td>\n",
              "      <td>395.708679</td>\n",
              "      <td>401.175659</td>\n",
              "      <td>570.642761</td>\n",
              "      <td>652.222168</td>\n",
              "      <td>319.069214</td>\n",
              "      <td>204.106003</td>\n",
              "      <td>1265.324707</td>\n",
              "      <td>103.765228</td>\n",
              "      <td>440.996307</td>\n",
              "    </tr>\n",
              "  </tbody>\n",
              "</table>\n",
              "<p>5 rows × 832 columns</p>\n",
              "</div>"
            ],
            "text/plain": [
              "           0            1            2            3            4    \\\n",
              "0   102.223244   368.700684   137.223206  3186.571777     3.529137   \n",
              "1  1862.122681   725.858398   495.343079   522.689270  1037.605713   \n",
              "2  1338.201538    63.295807  1250.506104     1.934196   105.690559   \n",
              "3   508.373199   357.868134    54.637264   761.106384   240.089447   \n",
              "4  1759.074219  1074.358521    51.794151   659.456604  -419.165039   \n",
              "\n",
              "           5            6           7            8           9       ...       \\\n",
              "0     0.000000  1580.153198   88.257584   241.882187  132.519989     ...        \n",
              "1  1459.342163  1467.959839  951.591431  1289.745483    0.000000     ...        \n",
              "2  1010.898010   814.236450   68.646568   -44.988132  871.175598     ...        \n",
              "3   100.703369   477.226807  444.954498   702.838623  109.055504     ...        \n",
              "4   619.112854   219.199036  487.793335   622.421021   32.543133     ...        \n",
              "\n",
              "           822          823         824         825         826         827  \\\n",
              "0  -174.814178  1479.688599  442.842407  763.384705  183.145950  307.035736   \n",
              "1  1474.365601   754.765991  804.412048  987.892090  949.158386  317.838837   \n",
              "2   128.142059    99.144165   91.923775  337.149536  -27.088104  296.295044   \n",
              "3   524.925659  1218.190186    0.000000  983.982910  704.678345  472.131653   \n",
              "4   678.214233   395.708679  401.175659  570.642761  652.222168  319.069214   \n",
              "\n",
              "           828          829         830          831  \n",
              "0   380.927002   444.837280  524.020386   197.409546  \n",
              "1  1316.921509   711.112122  566.910278  1134.835327  \n",
              "2   826.219788   259.561218  504.078888   118.668991  \n",
              "3   111.450127   762.669006   20.642662   627.526917  \n",
              "4   204.106003  1265.324707  103.765228   440.996307  \n",
              "\n",
              "[5 rows x 832 columns]"
            ]
          },
          "metadata": {
            "tags": []
          },
          "execution_count": 17
        }
      ]
    },
    {
      "metadata": {
        "colab_type": "text",
        "id": "1SjmtSi7Kize"
      },
      "cell_type": "markdown",
      "source": [
        "Great! Now that I've removed the rows of zeros I can add the labels to the signal for training later on"
      ]
    },
    {
      "metadata": {
        "colab_type": "code",
        "id": "AOLP19gcKizf",
        "outputId": "82974f1d-74aa-40e9-eea7-1b3e05a1e1df",
        "colab": {
          "base_uri": "https://localhost:8080/",
          "height": 34
        }
      },
      "cell_type": "code",
      "source": [
        "def add_ones_or_zeros(data_frame, one_or_zero):\n",
        "    \"\"\"\n",
        "        data_frame: should be a pandas Data Frame\n",
        "        \n",
        "        add ones or zeros to data depending on whether it is signal or background\n",
        "    \"\"\"\n",
        "    if one_or_zero == 1:\n",
        "        label = np.ones(len(data_frame))\n",
        "        label_series = pd.Series(label)\n",
        "        \n",
        "        \n",
        "    elif one_or_zero == 0:\n",
        "        label = np.zeros(len(data_frame))\n",
        "        label_series = pd.Series(label)\n",
        "        \n",
        "    else:\n",
        "        print(\"Error: Not a 1 or 0\")\n",
        "        return None\n",
        "    \n",
        "    data_frame[\"832\"] = label_series\n",
        "    return data_frame \n",
        "    \n",
        "df_signal_with_label = add_ones_or_zeros(df_signal_flat, 1)\n",
        "df_background_with_label = add_ones_or_zeros(df_background_flat, 0)\n",
        "\n",
        "print df_signal_with_label[\"832\"].sum(), df_background_with_label[\"832\"].sum()"
      ],
      "execution_count": 18,
      "outputs": [
        {
          "output_type": "stream",
          "text": [
            "1000.0 0.0\n"
          ],
          "name": "stdout"
        }
      ]
    },
    {
      "metadata": {
        "colab_type": "text",
        "id": "3yYE9prnKizi"
      },
      "cell_type": "markdown",
      "source": [
        "Now I want to combine these two data frames and shuffle them so that they are randomly distributed. I don't think I need to do this since the data is randomly sampled. But I would prefer that the data is already mixed up just to be sure I don't have any issues with overfitting."
      ]
    },
    {
      "metadata": {
        "colab_type": "code",
        "id": "OprAOpQPKizj",
        "colab": {}
      },
      "cell_type": "code",
      "source": [
        "df = pd.concat([df_background_with_label, df_signal_with_label])"
      ],
      "execution_count": 0,
      "outputs": []
    },
    {
      "metadata": {
        "colab_type": "code",
        "id": "u2q1mWGxKizk",
        "outputId": "619b7d67-1d94-4df8-a77a-6abedc7c35d6",
        "colab": {
          "base_uri": "https://localhost:8080/",
          "height": 253
        }
      },
      "cell_type": "code",
      "source": [
        "from sklearn.utils import shuffle\n",
        "df = shuffle(df)\n",
        "df.head()"
      ],
      "execution_count": 20,
      "outputs": [
        {
          "output_type": "execute_result",
          "data": {
            "text/html": [
              "<div>\n",
              "<style scoped>\n",
              "    .dataframe tbody tr th:only-of-type {\n",
              "        vertical-align: middle;\n",
              "    }\n",
              "\n",
              "    .dataframe tbody tr th {\n",
              "        vertical-align: top;\n",
              "    }\n",
              "\n",
              "    .dataframe thead th {\n",
              "        text-align: right;\n",
              "    }\n",
              "</style>\n",
              "<table border=\"1\" class=\"dataframe\">\n",
              "  <thead>\n",
              "    <tr style=\"text-align: right;\">\n",
              "      <th></th>\n",
              "      <th>0</th>\n",
              "      <th>1</th>\n",
              "      <th>2</th>\n",
              "      <th>3</th>\n",
              "      <th>4</th>\n",
              "      <th>5</th>\n",
              "      <th>6</th>\n",
              "      <th>7</th>\n",
              "      <th>8</th>\n",
              "      <th>9</th>\n",
              "      <th>...</th>\n",
              "      <th>823</th>\n",
              "      <th>824</th>\n",
              "      <th>825</th>\n",
              "      <th>826</th>\n",
              "      <th>827</th>\n",
              "      <th>828</th>\n",
              "      <th>829</th>\n",
              "      <th>830</th>\n",
              "      <th>831</th>\n",
              "      <th>832</th>\n",
              "    </tr>\n",
              "  </thead>\n",
              "  <tbody>\n",
              "    <tr>\n",
              "      <th>72</th>\n",
              "      <td>617.601318</td>\n",
              "      <td>1025.455811</td>\n",
              "      <td>0.000000</td>\n",
              "      <td>1011.240295</td>\n",
              "      <td>99.958839</td>\n",
              "      <td>333.287323</td>\n",
              "      <td>1539.869385</td>\n",
              "      <td>1168.764648</td>\n",
              "      <td>738.572998</td>\n",
              "      <td>372.952454</td>\n",
              "      <td>...</td>\n",
              "      <td>134.856674</td>\n",
              "      <td>-10.657075</td>\n",
              "      <td>26.755604</td>\n",
              "      <td>2667.298828</td>\n",
              "      <td>499.250366</td>\n",
              "      <td>27.744547</td>\n",
              "      <td>1043.870361</td>\n",
              "      <td>326.671387</td>\n",
              "      <td>1146.979004</td>\n",
              "      <td>1.0</td>\n",
              "    </tr>\n",
              "    <tr>\n",
              "      <th>48</th>\n",
              "      <td>2.102772</td>\n",
              "      <td>723.881165</td>\n",
              "      <td>296.339325</td>\n",
              "      <td>356.064789</td>\n",
              "      <td>543.670959</td>\n",
              "      <td>457.909302</td>\n",
              "      <td>764.226318</td>\n",
              "      <td>331.417816</td>\n",
              "      <td>760.755249</td>\n",
              "      <td>-15.101002</td>\n",
              "      <td>...</td>\n",
              "      <td>336.678497</td>\n",
              "      <td>29.638662</td>\n",
              "      <td>690.665833</td>\n",
              "      <td>660.871948</td>\n",
              "      <td>482.679749</td>\n",
              "      <td>848.962769</td>\n",
              "      <td>121.525925</td>\n",
              "      <td>280.449341</td>\n",
              "      <td>1931.817627</td>\n",
              "      <td>1.0</td>\n",
              "    </tr>\n",
              "    <tr>\n",
              "      <th>204</th>\n",
              "      <td>528.239075</td>\n",
              "      <td>186.798325</td>\n",
              "      <td>-79.647118</td>\n",
              "      <td>-66.266968</td>\n",
              "      <td>281.066620</td>\n",
              "      <td>62.878704</td>\n",
              "      <td>95.930397</td>\n",
              "      <td>0.000000</td>\n",
              "      <td>515.882568</td>\n",
              "      <td>289.449341</td>\n",
              "      <td>...</td>\n",
              "      <td>245.353912</td>\n",
              "      <td>92.703529</td>\n",
              "      <td>127.512253</td>\n",
              "      <td>-160.476349</td>\n",
              "      <td>213.109863</td>\n",
              "      <td>488.552246</td>\n",
              "      <td>555.118774</td>\n",
              "      <td>304.462646</td>\n",
              "      <td>161.072601</td>\n",
              "      <td>0.0</td>\n",
              "    </tr>\n",
              "    <tr>\n",
              "      <th>694</th>\n",
              "      <td>2684.563232</td>\n",
              "      <td>2531.401123</td>\n",
              "      <td>692.038208</td>\n",
              "      <td>242.560425</td>\n",
              "      <td>1206.665771</td>\n",
              "      <td>996.734131</td>\n",
              "      <td>335.721771</td>\n",
              "      <td>378.905792</td>\n",
              "      <td>496.130066</td>\n",
              "      <td>796.467285</td>\n",
              "      <td>...</td>\n",
              "      <td>507.889740</td>\n",
              "      <td>137.892517</td>\n",
              "      <td>827.784912</td>\n",
              "      <td>1302.798584</td>\n",
              "      <td>329.696167</td>\n",
              "      <td>810.409546</td>\n",
              "      <td>637.320984</td>\n",
              "      <td>674.380676</td>\n",
              "      <td>970.458496</td>\n",
              "      <td>0.0</td>\n",
              "    </tr>\n",
              "    <tr>\n",
              "      <th>758</th>\n",
              "      <td>473.478973</td>\n",
              "      <td>251.773315</td>\n",
              "      <td>124.237930</td>\n",
              "      <td>524.202026</td>\n",
              "      <td>28.579481</td>\n",
              "      <td>109.355637</td>\n",
              "      <td>663.056824</td>\n",
              "      <td>176.261261</td>\n",
              "      <td>42.052715</td>\n",
              "      <td>105.625214</td>\n",
              "      <td>...</td>\n",
              "      <td>427.932251</td>\n",
              "      <td>806.014404</td>\n",
              "      <td>334.009796</td>\n",
              "      <td>560.595093</td>\n",
              "      <td>241.998962</td>\n",
              "      <td>306.200806</td>\n",
              "      <td>454.349487</td>\n",
              "      <td>135.056351</td>\n",
              "      <td>367.607117</td>\n",
              "      <td>1.0</td>\n",
              "    </tr>\n",
              "  </tbody>\n",
              "</table>\n",
              "<p>5 rows × 833 columns</p>\n",
              "</div>"
            ],
            "text/plain": [
              "               0            1           2            3            4  \\\n",
              "72    617.601318  1025.455811    0.000000  1011.240295    99.958839   \n",
              "48      2.102772   723.881165  296.339325   356.064789   543.670959   \n",
              "204   528.239075   186.798325  -79.647118   -66.266968   281.066620   \n",
              "694  2684.563232  2531.401123  692.038208   242.560425  1206.665771   \n",
              "758   473.478973   251.773315  124.237930   524.202026    28.579481   \n",
              "\n",
              "              5            6            7           8           9 ...   \\\n",
              "72   333.287323  1539.869385  1168.764648  738.572998  372.952454 ...    \n",
              "48   457.909302   764.226318   331.417816  760.755249  -15.101002 ...    \n",
              "204   62.878704    95.930397     0.000000  515.882568  289.449341 ...    \n",
              "694  996.734131   335.721771   378.905792  496.130066  796.467285 ...    \n",
              "758  109.355637   663.056824   176.261261   42.052715  105.625214 ...    \n",
              "\n",
              "            823         824         825          826         827         828  \\\n",
              "72   134.856674  -10.657075   26.755604  2667.298828  499.250366   27.744547   \n",
              "48   336.678497   29.638662  690.665833   660.871948  482.679749  848.962769   \n",
              "204  245.353912   92.703529  127.512253  -160.476349  213.109863  488.552246   \n",
              "694  507.889740  137.892517  827.784912  1302.798584  329.696167  810.409546   \n",
              "758  427.932251  806.014404  334.009796   560.595093  241.998962  306.200806   \n",
              "\n",
              "             829         830          831  832  \n",
              "72   1043.870361  326.671387  1146.979004  1.0  \n",
              "48    121.525925  280.449341  1931.817627  1.0  \n",
              "204   555.118774  304.462646   161.072601  0.0  \n",
              "694   637.320984  674.380676   970.458496  0.0  \n",
              "758   454.349487  135.056351   367.607117  1.0  \n",
              "\n",
              "[5 rows x 833 columns]"
            ]
          },
          "metadata": {
            "tags": []
          },
          "execution_count": 20
        }
      ]
    },
    {
      "metadata": {
        "colab_type": "text",
        "id": "A9FtXwPPKizn"
      },
      "cell_type": "markdown",
      "source": [
        "This looks nice and shuffled so now I will seperate out the data again of these shuffled images so that I have x and y values for training"
      ]
    },
    {
      "metadata": {
        "colab_type": "code",
        "id": "E3lkBqurKizo",
        "outputId": "1781ec6c-c2d6-4ba3-80b1-757800a8341b",
        "colab": {
          "base_uri": "https://localhost:8080/",
          "height": 34
        }
      },
      "cell_type": "code",
      "source": [
        "labels = df['832']\n",
        "labels = np.array(labels)\n",
        "print labels[:10]"
      ],
      "execution_count": 21,
      "outputs": [
        {
          "output_type": "stream",
          "text": [
            "[1. 1. 0. 0. 1. 0. 1. 1. 1. 1.]\n"
          ],
          "name": "stdout"
        }
      ]
    },
    {
      "metadata": {
        "colab_type": "code",
        "id": "EqQDEa2vKizr",
        "outputId": "b5313c33-c696-44d6-c65b-896064c6b4c4",
        "colab": {
          "base_uri": "https://localhost:8080/",
          "height": 34
        }
      },
      "cell_type": "code",
      "source": [
        "df.drop(df.columns[832], axis=1, inplace=True)\n",
        "images = np.array(df)\n",
        "print len(images[0])"
      ],
      "execution_count": 22,
      "outputs": [
        {
          "output_type": "stream",
          "text": [
            "832\n"
          ],
          "name": "stdout"
        }
      ]
    },
    {
      "metadata": {
        "colab_type": "text",
        "id": "lpus7lgxKizv"
      },
      "cell_type": "markdown",
      "source": [
        "Now I need to reshape the data back to what it was since I eliminated the zero rows. Then I want to plot these. I have not normalised these since I now have a mixture of signal and background data and normalising the background data using the signal data would not be helpful for viewing the images\n",
        "\n",
        "With some fiddling I found that it should be reshaped as (26, 32)"
      ]
    },
    {
      "metadata": {
        "colab_type": "code",
        "id": "_DCg771BKizv",
        "colab": {}
      },
      "cell_type": "code",
      "source": [
        "images_reshaped = images[:].reshape(-1, 26, 32)"
      ],
      "execution_count": 0,
      "outputs": []
    },
    {
      "metadata": {
        "colab_type": "code",
        "id": "doN-gTsVKizy",
        "outputId": "2315fdc1-1513-42c6-fa87-334512e03c7c",
        "colab": {
          "base_uri": "https://localhost:8080/",
          "height": 606
        }
      },
      "cell_type": "code",
      "source": [
        "def signal_or_background(label):\n",
        "    \"\"\"\n",
        "        Tells us if the image is signal or background for plotting\n",
        "    \"\"\"\n",
        "    if label == 0.0:\n",
        "        return \"background\"\n",
        "    else:\n",
        "        return \"signal\"\n",
        "\n",
        "\n",
        "f, axarr = plt.subplots(nrows=2, ncols=2, figsize=(9, 9))\n",
        "f.suptitle(\"mixed $JZ0W$ and $ZvvHvv$ images\", fontsize = 18)\n",
        "axarr[0,0].set_ylabel(\"$\\eta$ \", fontsize=16).set_rotation(0)\n",
        "axarr[0,1].set_ylabel(\"$\\eta$ \", fontsize=16).set_rotation(0)\n",
        "axarr[1,0].set_ylabel(\"$\\eta$ \", fontsize=16).set_rotation(0)\n",
        "axarr[1,1].set_ylabel(\"$\\eta$ \", fontsize=16).set_rotation(0)\n",
        "\n",
        "axarr[0,0].set_xlabel(\"$\\phi$\", fontsize=16)\n",
        "axarr[0,1].set_xlabel(\"$\\phi$\", fontsize=16)\n",
        "axarr[1,0].set_xlabel(\"$\\phi$\", fontsize=16)\n",
        "axarr[1,1].set_xlabel(\"$\\phi$\", fontsize=16)\n",
        "\n",
        "axarr[0,0].set_title(\"{}\".format(signal_or_background(labels[0])), fontsize=16)\n",
        "axarr[0,1].set_title(\"{}\".format(signal_or_background(labels[1])), fontsize=16)\n",
        "axarr[1,0].set_title(\"{}\".format(signal_or_background(labels[2])), fontsize=16)\n",
        "axarr[1,1].set_title(\"{}\".format(signal_or_background(labels[3])), fontsize=16)\n",
        "\n",
        "axarr[0,0].imshow(images_reshaped[0])\n",
        "axarr[0,1].imshow(images_reshaped[1])\n",
        "axarr[1,0].imshow(images_reshaped[2])\n",
        "axarr[1,1].imshow(images_reshaped[3])\n",
        "\n",
        "plt.show()"
      ],
      "execution_count": 24,
      "outputs": [
        {
          "output_type": "display_data",
          "data": {
            "image/png": "[encoded data removed]",
            "text/plain": [
              "<Figure size 648x648 with 4 Axes>"
            ]
          },
          "metadata": {
            "tags": []
          }
        }
      ]
    },
    {
      "metadata": {
        "colab_type": "text",
        "id": "j3Yi2I-JKiz1"
      },
      "cell_type": "markdown",
      "source": [
        "Now I need to reshape the array for training in the CNN and convert the signal and background labels into one-hot encodings"
      ]
    },
    {
      "metadata": {
        "colab_type": "code",
        "id": "4m3mciNOKi0L",
        "outputId": "e5151032-f556-42b5-f4bc-aa970deb9a6d",
        "colab": {
          "base_uri": "https://localhost:8080/",
          "height": 34
        }
      },
      "cell_type": "code",
      "source": [
        "images_reshaped = images[:].reshape(-1, 26, 32, 1) \n",
        "print images_reshaped.shape"
      ],
      "execution_count": 26,
      "outputs": [
        {
          "output_type": "stream",
          "text": [
            "(2000, 26, 32, 1)\n"
          ],
          "name": "stdout"
        }
      ]
    },
    {
      "metadata": {
        "colab_type": "code",
        "id": "Dpd_0U6vKi0O",
        "colab": {}
      },
      "cell_type": "code",
      "source": [
        "from keras.models import Sequential, load_model\n",
        "from keras.layers import Dense, Dropout, Flatten, Activation\n",
        "from keras.layers import Conv2D, MaxPooling2D, BatchNormalization\n",
        "from keras.optimizers import Adam,SGD,Adagrad,Adadelta,RMSprop\n",
        "from keras.preprocessing.image import ImageDataGenerator\n",
        "from keras.callbacks import ReduceLROnPlateau, LearningRateScheduler\n",
        "from keras.utils import to_categorical\n"
      ],
      "execution_count": 0,
      "outputs": []
    },
    {
      "metadata": {
        "colab_type": "code",
        "id": "l-FB5NkPKi0Q",
        "colab": {
          "base_uri": "https://localhost:8080/",
          "height": 139
        },
        "outputId": "b8009c0e-bc11-47d9-e2e8-3ad288c8135f"
      },
      "cell_type": "code",
      "source": [
        "model = Sequential()\n",
        "model.add(Conv2D(filters=32, kernel_size=(3, 3), activation='relu', strides=1, padding='same', data_format='channels_last',\n",
        "                 input_shape=(26,32,1)))\n",
        "model.add(BatchNormalization())\n",
        "model.add(Conv2D(filters=32, kernel_size=(3, 3), activation='relu', strides=1, padding='same', data_format='channels_last'))\n",
        "model.add(BatchNormalization())\n",
        "model.add(MaxPooling2D(pool_size=(2, 2), strides=2, padding='valid' ))\n",
        "model.add(Dropout(0.25))\n",
        "\n",
        "model.add(Conv2D(filters=64, kernel_size=(3, 3), activation='relu', strides=1, padding='same', data_format='channels_last'))\n",
        "model.add(BatchNormalization())\n",
        "model.add(Conv2D(filters=64, kernel_size=(3, 3), strides=1, padding='same', activation='relu', data_format='channels_last'))\n",
        "model.add(BatchNormalization())\n",
        "model.add(MaxPooling2D(pool_size=(2, 2), padding='valid', strides=2))\n",
        "model.add(Dropout(0.25))\n",
        "\n",
        "model.add(Flatten())\n",
        "model.add(Dense(512, activation='relu'))\n",
        "model.add(BatchNormalization())\n",
        "model.add(Dropout(0.25))\n",
        "model.add(Dense(1024, activation='relu'))\n",
        "model.add(BatchNormalization())\n",
        "model.add(Dropout(0.5))\n",
        "model.add(Dense(1, activation='sigmoid'))\n",
        "\n",
        "optimizer = Adam(lr=0.001, beta_1=0.9, beta_2=0.999 )\n",
        "model.compile(optimizer=optimizer, loss=\"binary_crossentropy\", metrics=[\"accuracy\"])\n",
        "\n",
        "reduce_lr = LearningRateScheduler(lambda x: 1e-3 * 0.9 ** x)\n",
        "\n",
        "batch_size = 32\n",
        "epochs = 20"
      ],
      "execution_count": 28,
      "outputs": [
        {
          "output_type": "stream",
          "text": [
            "WARNING:tensorflow:From /usr/local/lib/python2.7/dist-packages/tensorflow/python/framework/op_def_library.py:263: colocate_with (from tensorflow.python.framework.ops) is deprecated and will be removed in a future version.\n",
            "Instructions for updating:\n",
            "Colocations handled automatically by placer.\n",
            "WARNING:tensorflow:From /usr/local/lib/python2.7/dist-packages/keras/backend/tensorflow_backend.py:3445: calling dropout (from tensorflow.python.ops.nn_ops) with keep_prob is deprecated and will be removed in a future version.\n",
            "Instructions for updating:\n",
            "Please use `rate` instead of `keep_prob`. Rate should be set to `rate = 1 - keep_prob`.\n"
          ],
          "name": "stdout"
        }
      ]
    },
    {
      "metadata": {
        "colab_type": "code",
        "id": "dCByHNgtKi0R",
        "outputId": "e727d805-f99a-4be8-898c-a282e905e7a6",
        "colab": {
          "base_uri": "https://localhost:8080/",
          "height": 816
        }
      },
      "cell_type": "code",
      "source": [
        "model.summary()"
      ],
      "execution_count": 29,
      "outputs": [
        {
          "output_type": "stream",
          "text": [
            "_________________________________________________________________\n",
            "Layer (type)                 Output Shape              Param #   \n",
            "=================================================================\n",
            "conv2d_1 (Conv2D)            (None, 26, 32, 32)        320       \n",
            "_________________________________________________________________\n",
            "batch_normalization_1 (Batch (None, 26, 32, 32)        128       \n",
            "_________________________________________________________________\n",
            "conv2d_2 (Conv2D)            (None, 26, 32, 32)        9248      \n",
            "_________________________________________________________________\n",
            "batch_normalization_2 (Batch (None, 26, 32, 32)        128       \n",
            "_________________________________________________________________\n",
            "max_pooling2d_1 (MaxPooling2 (None, 13, 16, 32)        0         \n",
            "_________________________________________________________________\n",
            "dropout_1 (Dropout)          (None, 13, 16, 32)        0         \n",
            "_________________________________________________________________\n",
            "conv2d_3 (Conv2D)            (None, 13, 16, 64)        18496     \n",
            "_________________________________________________________________\n",
            "batch_normalization_3 (Batch (None, 13, 16, 64)        256       \n",
            "_________________________________________________________________\n",
            "conv2d_4 (Conv2D)            (None, 13, 16, 64)        36928     \n",
            "_________________________________________________________________\n",
            "batch_normalization_4 (Batch (None, 13, 16, 64)        256       \n",
            "_________________________________________________________________\n",
            "max_pooling2d_2 (MaxPooling2 (None, 6, 8, 64)          0         \n",
            "_________________________________________________________________\n",
            "dropout_2 (Dropout)          (None, 6, 8, 64)          0         \n",
            "_________________________________________________________________\n",
            "flatten_1 (Flatten)          (None, 3072)              0         \n",
            "_________________________________________________________________\n",
            "dense_1 (Dense)              (None, 512)               1573376   \n",
            "_________________________________________________________________\n",
            "batch_normalization_5 (Batch (None, 512)               2048      \n",
            "_________________________________________________________________\n",
            "dropout_3 (Dropout)          (None, 512)               0         \n",
            "_________________________________________________________________\n",
            "dense_2 (Dense)              (None, 1024)              525312    \n",
            "_________________________________________________________________\n",
            "batch_normalization_6 (Batch (None, 1024)              4096      \n",
            "_________________________________________________________________\n",
            "dropout_4 (Dropout)          (None, 1024)              0         \n",
            "_________________________________________________________________\n",
            "dense_3 (Dense)              (None, 1)                 1025      \n",
            "=================================================================\n",
            "Total params: 2,171,617\n",
            "Trainable params: 2,168,161\n",
            "Non-trainable params: 3,456\n",
            "_________________________________________________________________\n"
          ],
          "name": "stdout"
        }
      ]
    },
    {
      "metadata": {
        "colab_type": "code",
        "id": "rIibj16LKi0T",
        "colab": {}
      },
      "cell_type": "code",
      "source": [
        "x_tr, x_val, y_tr, y_val = train_test_split(images_reshaped, labels, test_size=0.33, random_state=42)\n",
        "x_val, x_te, y_val, y_te = train_test_split(x_val, y_val, test_size=0.33, random_state=42)"
      ],
      "execution_count": 0,
      "outputs": []
    },
    {
      "metadata": {
        "colab_type": "code",
        "id": "B6Drd1xsKi0W",
        "outputId": "48fbd611-f4bc-4eee-dec4-234265414010",
        "colab": {
          "base_uri": "https://localhost:8080/",
          "height": 785
        }
      },
      "cell_type": "code",
      "source": [
        "history = model.fit(x_tr, y_tr, validation_data = (x_val, y_val) ,epochs = epochs, verbose=2, callbacks = [reduce_lr], batch_size = batch_size)"
      ],
      "execution_count": 31,
      "outputs": [
        {
          "output_type": "stream",
          "text": [
            "WARNING:tensorflow:From /usr/local/lib/python2.7/dist-packages/tensorflow/python/ops/math_ops.py:3066: to_int32 (from tensorflow.python.ops.math_ops) is deprecated and will be removed in a future version.\n",
            "Instructions for updating:\n",
            "Use tf.cast instead.\n",
            "Train on 1340 samples, validate on 442 samples\n",
            "Epoch 1/20\n",
            " - 16s - loss: 0.6774 - acc: 0.7619 - val_loss: 0.6305 - val_acc: 0.7919\n",
            "Epoch 2/20\n",
            " - 14s - loss: 0.4611 - acc: 0.8127 - val_loss: 0.5764 - val_acc: 0.8190\n",
            "Epoch 3/20\n",
            " - 14s - loss: 0.3921 - acc: 0.8515 - val_loss: 0.5895 - val_acc: 0.8077\n",
            "Epoch 4/20\n",
            " - 14s - loss: 0.3726 - acc: 0.8567 - val_loss: 0.7256 - val_acc: 0.7873\n",
            "Epoch 5/20\n",
            " - 14s - loss: 0.3421 - acc: 0.8709 - val_loss: 0.6310 - val_acc: 0.7738\n",
            "Epoch 6/20\n",
            " - 14s - loss: 0.2980 - acc: 0.8701 - val_loss: 0.6402 - val_acc: 0.7964\n",
            "Epoch 7/20\n",
            " - 14s - loss: 0.2830 - acc: 0.8843 - val_loss: 0.6671 - val_acc: 0.7828\n",
            "Epoch 8/20\n",
            " - 14s - loss: 0.2501 - acc: 0.8903 - val_loss: 0.7520 - val_acc: 0.7783\n",
            "Epoch 9/20\n",
            " - 14s - loss: 0.2271 - acc: 0.9090 - val_loss: 0.7877 - val_acc: 0.7783\n",
            "Epoch 10/20\n",
            " - 14s - loss: 0.1956 - acc: 0.9172 - val_loss: 0.6420 - val_acc: 0.8122\n",
            "Epoch 11/20\n",
            " - 14s - loss: 0.2329 - acc: 0.9060 - val_loss: 0.7084 - val_acc: 0.8077\n",
            "Epoch 12/20\n",
            " - 14s - loss: 0.1539 - acc: 0.9455 - val_loss: 0.8949 - val_acc: 0.7828\n",
            "Epoch 13/20\n",
            " - 14s - loss: 0.1556 - acc: 0.9418 - val_loss: 0.8652 - val_acc: 0.7919\n",
            "Epoch 14/20\n",
            " - 14s - loss: 0.1472 - acc: 0.9410 - val_loss: 0.8010 - val_acc: 0.7873\n",
            "Epoch 15/20\n",
            " - 14s - loss: 0.1355 - acc: 0.9478 - val_loss: 0.7856 - val_acc: 0.8054\n",
            "Epoch 16/20\n",
            " - 14s - loss: 0.1448 - acc: 0.9396 - val_loss: 0.7652 - val_acc: 0.8054\n",
            "Epoch 17/20\n",
            " - 14s - loss: 0.1236 - acc: 0.9522 - val_loss: 0.7498 - val_acc: 0.8054\n",
            "Epoch 18/20\n",
            " - 14s - loss: 0.1186 - acc: 0.9500 - val_loss: 0.7379 - val_acc: 0.8032\n",
            "Epoch 19/20\n",
            " - 14s - loss: 0.1177 - acc: 0.9552 - val_loss: 0.8131 - val_acc: 0.8009\n",
            "Epoch 20/20\n",
            " - 14s - loss: 0.0921 - acc: 0.9657 - val_loss: 0.8595 - val_acc: 0.8054\n"
          ],
          "name": "stdout"
        }
      ]
    },
    {
      "metadata": {
        "colab_type": "code",
        "id": "fj4RvM3GKi0X",
        "outputId": "8cf72b30-76be-4289-8dcf-a5d391712e36",
        "colab": {
          "base_uri": "https://localhost:8080/",
          "height": 34
        }
      },
      "cell_type": "code",
      "source": [
        "scores = model.evaluate(x_te, y_te, verbose=0)\n",
        "print(\"Baseline Error: %.2f%%\" % (100-scores[1]*100))"
      ],
      "execution_count": 32,
      "outputs": [
        {
          "output_type": "stream",
          "text": [
            "Baseline Error: 22.94%\n"
          ],
          "name": "stdout"
        }
      ]
    },
    {
      "metadata": {
        "colab_type": "code",
        "id": "w5TOvJuEKi0Z",
        "outputId": "1d74e473-10fb-41ef-a533-e92133064b58",
        "colab": {
          "base_uri": "https://localhost:8080/",
          "height": 34
        }
      },
      "cell_type": "code",
      "source": [
        "print(history.history.keys())"
      ],
      "execution_count": 33,
      "outputs": [
        {
          "output_type": "stream",
          "text": [
            "['acc', 'loss', 'val_acc', 'val_loss', 'lr']\n"
          ],
          "name": "stdout"
        }
      ]
    },
    {
      "metadata": {
        "colab_type": "code",
        "id": "Fv72SWL2Ki0a",
        "outputId": "398b9eb7-80c3-43fc-de8f-9801dc6f97ab",
        "colab": {
          "base_uri": "https://localhost:8080/",
          "height": 735
        }
      },
      "cell_type": "code",
      "source": [
        "plt.plot(history.history['acc'])\n",
        "plt.plot(history.history['val_acc'])\n",
        "plt.title('model accuracy')\n",
        "plt.ylabel('accuracy')\n",
        "plt.xlabel('epoch')\n",
        "plt.legend(['train', 'test'], loc='upper left')\n",
        "plt.show()\n",
        "\n",
        "# summarize history for loss\n",
        "plt.plot(history.history['loss'])\n",
        "plt.plot(history.history['val_loss'])\n",
        "plt.title('model loss')\n",
        "plt.ylabel('loss')\n",
        "plt.xlabel('epoch')\n",
        "plt.legend(['train', 'test'], loc='upper left')\n",
        "plt.show()"
      ],
      "execution_count": 34,
      "outputs": [
        {
          "output_type": "display_data",
          "data": {
            "image/png": "[encoded data removed]",
            "text/plain": [
              "<Figure size 576x396 with 1 Axes>"
            ]
          },
          "metadata": {
            "tags": []
          }
        },
        {
          "output_type": "display_data",
          "data": {
            "image/png": "[encoded data removed]",
            "text/plain": [
              "<Figure size 576x396 with 1 Axes>"
            ]
          },
          "metadata": {
            "tags": []
          }
        }
      ]
    },
    {
      "metadata": {
        "colab_type": "code",
        "id": "gMfQ-fb3Ki0d",
        "colab": {}
      },
      "cell_type": "code",
      "source": [
        "from sklearn.metrics import roc_curve\n",
        "\n",
        "y_pred_keras = model.predict(x_te).ravel()\n",
        "fpr_keras, tpr_keras, thresholds_keras = roc_curve(y_te, y_pred_keras)"
      ],
      "execution_count": 0,
      "outputs": []
    },
    {
      "metadata": {
        "colab_type": "code",
        "id": "uDvv9fVjKi0g",
        "colab": {}
      },
      "cell_type": "code",
      "source": [
        "from sklearn.metrics import auc\n",
        "auc_keras = auc(fpr_keras, tpr_keras)"
      ],
      "execution_count": 0,
      "outputs": []
    },
    {
      "metadata": {
        "colab_type": "code",
        "id": "92psfr_iKi0i",
        "outputId": "c6239982-29d9-4154-9c2e-41a7567f75f0",
        "colab": {
          "base_uri": "https://localhost:8080/",
          "height": 376
        }
      },
      "cell_type": "code",
      "source": [
        "plt.figure(1)\n",
        "plt.plot([0, 1], [0, 1], 'k--')\n",
        "plt.plot(fpr_keras, tpr_keras, label='Keras (area = {:.3f})'.format(auc_keras))\n",
        "plt.xlabel('False positive rate')\n",
        "plt.ylabel('True positive rate')\n",
        "plt.title('ROC curve')\n",
        "plt.legend(loc='best')\n",
        "plt.show()"
      ],
      "execution_count": 37,
      "outputs": [
        {
          "output_type": "display_data",
          "data": {
            "image/png": "[encoded data removed]",
            "text/plain": [
              "<Figure size 576x396 with 1 Axes>"
            ]
          },
          "metadata": {
            "tags": []
          }
        }
      ]
    },
    {
      "metadata": {
        "colab_type": "text",
        "id": "2V2g1EiUcLWj"
      },
      "cell_type": "markdown",
      "source": [
        "We can see that we don't have enough data (especially for our validation set)\n"
      ]
    }
  ]
}
